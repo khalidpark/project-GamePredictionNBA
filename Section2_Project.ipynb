{
  "nbformat": 4,
  "nbformat_minor": 0,
  "metadata": {
    "colab": {
      "name": "Section2_Project.ipynb",
      "provenance": [],
      "collapsed_sections": [],
      "toc_visible": true,
      "authorship_tag": "ABX9TyNzGpMq+P2NXkvLN553pAoq",
      "include_colab_link": true
    },
    "kernelspec": {
      "name": "python3",
      "display_name": "Python 3"
    }
  },
  "cells": [
    {
      "cell_type": "markdown",
      "metadata": {
        "id": "view-in-github",
        "colab_type": "text"
      },
      "source": [
        "<a href=\"https://colab.research.google.com/github/khalidpark/Projects/blob/main/Section2_Project.ipynb\" target=\"_parent\"><img src=\"https://colab.research.google.com/assets/colab-badge.svg\" alt=\"Open In Colab\"/></a>"
      ]
    },
    {
      "cell_type": "code",
      "metadata": {
        "id": "sl5-Br4gw2fA"
      },
      "source": [
        "import pandas as pd"
      ],
      "execution_count": null,
      "outputs": []
    },
    {
      "cell_type": "markdown",
      "metadata": {
        "id": "3ZEuMqfr4LlW"
      },
      "source": [
        "# 작업1)\r\n",
        "### teams.csv 데이터에서 팀 ID 와 팀 약어 정보만 추출"
      ]
    },
    {
      "cell_type": "code",
      "metadata": {
        "id": "qAW2bPCf3uqX"
      },
      "source": [
        "df_team = pd.read_csv('/content/teams.csv')"
      ],
      "execution_count": null,
      "outputs": []
    },
    {
      "cell_type": "code",
      "metadata": {
        "colab": {
          "base_uri": "https://localhost:8080/"
        },
        "id": "3iqQqppm301k",
        "outputId": "72665dc8-6769-4afb-8b36-a10c153fbf5a"
      },
      "source": [
        "df_team.columns"
      ],
      "execution_count": null,
      "outputs": [
        {
          "output_type": "execute_result",
          "data": {
            "text/plain": [
              "Index(['LEAGUE_ID', 'TEAM_ID', 'MIN_YEAR', 'MAX_YEAR', 'ABBREVIATION',\n",
              "       'NICKNAME', 'YEARFOUNDED', 'CITY', 'ARENA', 'ARENACAPACITY', 'OWNER',\n",
              "       'GENERALMANAGER', 'HEADCOACH', 'DLEAGUEAFFILIATION'],\n",
              "      dtype='object')"
            ]
          },
          "metadata": {
            "tags": []
          },
          "execution_count": 3
        }
      ]
    },
    {
      "cell_type": "code",
      "metadata": {
        "id": "Co1F_W7X36DS"
      },
      "source": [
        "#팀 ID와 팀이름만 추출\r\n",
        "\r\n",
        "df_team = df_team[['TEAM_ID', 'ABBREVIATION']]"
      ],
      "execution_count": null,
      "outputs": []
    },
    {
      "cell_type": "code",
      "metadata": {
        "colab": {
          "base_uri": "https://localhost:8080/",
          "height": 979
        },
        "id": "0fcx4Jq94Gfd",
        "outputId": "ef56df34-20a4-4c86-b83e-1b2810233232"
      },
      "source": [
        "#총 30팀\r\n",
        "\r\n",
        "df_team.head(30)"
      ],
      "execution_count": null,
      "outputs": [
        {
          "output_type": "execute_result",
          "data": {
            "text/html": [
              "<div>\n",
              "<style scoped>\n",
              "    .dataframe tbody tr th:only-of-type {\n",
              "        vertical-align: middle;\n",
              "    }\n",
              "\n",
              "    .dataframe tbody tr th {\n",
              "        vertical-align: top;\n",
              "    }\n",
              "\n",
              "    .dataframe thead th {\n",
              "        text-align: right;\n",
              "    }\n",
              "</style>\n",
              "<table border=\"1\" class=\"dataframe\">\n",
              "  <thead>\n",
              "    <tr style=\"text-align: right;\">\n",
              "      <th></th>\n",
              "      <th>TEAM_ID</th>\n",
              "      <th>ABBREVIATION</th>\n",
              "    </tr>\n",
              "  </thead>\n",
              "  <tbody>\n",
              "    <tr>\n",
              "      <th>0</th>\n",
              "      <td>1610612737</td>\n",
              "      <td>ATL</td>\n",
              "    </tr>\n",
              "    <tr>\n",
              "      <th>1</th>\n",
              "      <td>1610612738</td>\n",
              "      <td>BOS</td>\n",
              "    </tr>\n",
              "    <tr>\n",
              "      <th>2</th>\n",
              "      <td>1610612740</td>\n",
              "      <td>NOP</td>\n",
              "    </tr>\n",
              "    <tr>\n",
              "      <th>3</th>\n",
              "      <td>1610612741</td>\n",
              "      <td>CHI</td>\n",
              "    </tr>\n",
              "    <tr>\n",
              "      <th>4</th>\n",
              "      <td>1610612742</td>\n",
              "      <td>DAL</td>\n",
              "    </tr>\n",
              "    <tr>\n",
              "      <th>5</th>\n",
              "      <td>1610612743</td>\n",
              "      <td>DEN</td>\n",
              "    </tr>\n",
              "    <tr>\n",
              "      <th>6</th>\n",
              "      <td>1610612745</td>\n",
              "      <td>HOU</td>\n",
              "    </tr>\n",
              "    <tr>\n",
              "      <th>7</th>\n",
              "      <td>1610612746</td>\n",
              "      <td>LAC</td>\n",
              "    </tr>\n",
              "    <tr>\n",
              "      <th>8</th>\n",
              "      <td>1610612747</td>\n",
              "      <td>LAL</td>\n",
              "    </tr>\n",
              "    <tr>\n",
              "      <th>9</th>\n",
              "      <td>1610612748</td>\n",
              "      <td>MIA</td>\n",
              "    </tr>\n",
              "    <tr>\n",
              "      <th>10</th>\n",
              "      <td>1610612749</td>\n",
              "      <td>MIL</td>\n",
              "    </tr>\n",
              "    <tr>\n",
              "      <th>11</th>\n",
              "      <td>1610612750</td>\n",
              "      <td>MIN</td>\n",
              "    </tr>\n",
              "    <tr>\n",
              "      <th>12</th>\n",
              "      <td>1610612751</td>\n",
              "      <td>BKN</td>\n",
              "    </tr>\n",
              "    <tr>\n",
              "      <th>13</th>\n",
              "      <td>1610612752</td>\n",
              "      <td>NYK</td>\n",
              "    </tr>\n",
              "    <tr>\n",
              "      <th>14</th>\n",
              "      <td>1610612753</td>\n",
              "      <td>ORL</td>\n",
              "    </tr>\n",
              "    <tr>\n",
              "      <th>15</th>\n",
              "      <td>1610612754</td>\n",
              "      <td>IND</td>\n",
              "    </tr>\n",
              "    <tr>\n",
              "      <th>16</th>\n",
              "      <td>1610612755</td>\n",
              "      <td>PHI</td>\n",
              "    </tr>\n",
              "    <tr>\n",
              "      <th>17</th>\n",
              "      <td>1610612756</td>\n",
              "      <td>PHX</td>\n",
              "    </tr>\n",
              "    <tr>\n",
              "      <th>18</th>\n",
              "      <td>1610612757</td>\n",
              "      <td>POR</td>\n",
              "    </tr>\n",
              "    <tr>\n",
              "      <th>19</th>\n",
              "      <td>1610612758</td>\n",
              "      <td>SAC</td>\n",
              "    </tr>\n",
              "    <tr>\n",
              "      <th>20</th>\n",
              "      <td>1610612759</td>\n",
              "      <td>SAS</td>\n",
              "    </tr>\n",
              "    <tr>\n",
              "      <th>21</th>\n",
              "      <td>1610612760</td>\n",
              "      <td>OKC</td>\n",
              "    </tr>\n",
              "    <tr>\n",
              "      <th>22</th>\n",
              "      <td>1610612761</td>\n",
              "      <td>TOR</td>\n",
              "    </tr>\n",
              "    <tr>\n",
              "      <th>23</th>\n",
              "      <td>1610612762</td>\n",
              "      <td>UTA</td>\n",
              "    </tr>\n",
              "    <tr>\n",
              "      <th>24</th>\n",
              "      <td>1610612763</td>\n",
              "      <td>MEM</td>\n",
              "    </tr>\n",
              "    <tr>\n",
              "      <th>25</th>\n",
              "      <td>1610612764</td>\n",
              "      <td>WAS</td>\n",
              "    </tr>\n",
              "    <tr>\n",
              "      <th>26</th>\n",
              "      <td>1610612765</td>\n",
              "      <td>DET</td>\n",
              "    </tr>\n",
              "    <tr>\n",
              "      <th>27</th>\n",
              "      <td>1610612766</td>\n",
              "      <td>CHA</td>\n",
              "    </tr>\n",
              "    <tr>\n",
              "      <th>28</th>\n",
              "      <td>1610612739</td>\n",
              "      <td>CLE</td>\n",
              "    </tr>\n",
              "    <tr>\n",
              "      <th>29</th>\n",
              "      <td>1610612744</td>\n",
              "      <td>GSW</td>\n",
              "    </tr>\n",
              "  </tbody>\n",
              "</table>\n",
              "</div>"
            ],
            "text/plain": [
              "       TEAM_ID ABBREVIATION\n",
              "0   1610612737          ATL\n",
              "1   1610612738          BOS\n",
              "2   1610612740          NOP\n",
              "3   1610612741          CHI\n",
              "4   1610612742          DAL\n",
              "5   1610612743          DEN\n",
              "6   1610612745          HOU\n",
              "7   1610612746          LAC\n",
              "8   1610612747          LAL\n",
              "9   1610612748          MIA\n",
              "10  1610612749          MIL\n",
              "11  1610612750          MIN\n",
              "12  1610612751          BKN\n",
              "13  1610612752          NYK\n",
              "14  1610612753          ORL\n",
              "15  1610612754          IND\n",
              "16  1610612755          PHI\n",
              "17  1610612756          PHX\n",
              "18  1610612757          POR\n",
              "19  1610612758          SAC\n",
              "20  1610612759          SAS\n",
              "21  1610612760          OKC\n",
              "22  1610612761          TOR\n",
              "23  1610612762          UTA\n",
              "24  1610612763          MEM\n",
              "25  1610612764          WAS\n",
              "26  1610612765          DET\n",
              "27  1610612766          CHA\n",
              "28  1610612739          CLE\n",
              "29  1610612744          GSW"
            ]
          },
          "metadata": {
            "tags": []
          },
          "execution_count": 5
        }
      ]
    },
    {
      "cell_type": "markdown",
      "metadata": {
        "id": "J22ar4EM4U7y"
      },
      "source": [
        "\r\n",
        "\r\n",
        "---\r\n",
        "\r\n"
      ]
    },
    {
      "cell_type": "markdown",
      "metadata": {
        "id": "du2-teAqFaAK"
      },
      "source": [
        "# 작업2)"
      ]
    },
    {
      "cell_type": "code",
      "metadata": {
        "id": "KC8BhRLoxxPF"
      },
      "source": [
        "df = pd.read_csv('/content/games.csv')"
      ],
      "execution_count": null,
      "outputs": []
    },
    {
      "cell_type": "code",
      "metadata": {
        "id": "9YrwEenByQQx"
      },
      "source": [
        "# 시계열데이터 datetime 타입으로 변경\r\n",
        "df['GAME_DATE_EST'] =pd.to_datetime(df.GAME_DATE_EST)"
      ],
      "execution_count": null,
      "outputs": []
    },
    {
      "cell_type": "code",
      "metadata": {
        "colab": {
          "base_uri": "https://localhost:8080/"
        },
        "id": "5N8mHbu0yy8V",
        "outputId": "a469d485-5f7a-4ada-c670-0193d9b94bfc"
      },
      "source": [
        "df.info()"
      ],
      "execution_count": null,
      "outputs": [
        {
          "output_type": "stream",
          "text": [
            "<class 'pandas.core.frame.DataFrame'>\n",
            "RangeIndex: 23520 entries, 0 to 23519\n",
            "Data columns (total 21 columns):\n",
            " #   Column            Non-Null Count  Dtype         \n",
            "---  ------            --------------  -----         \n",
            " 0   GAME_DATE_EST     23520 non-null  datetime64[ns]\n",
            " 1   GAME_ID           23520 non-null  int64         \n",
            " 2   GAME_STATUS_TEXT  23520 non-null  object        \n",
            " 3   HOME_TEAM_ID      23520 non-null  int64         \n",
            " 4   VISITOR_TEAM_ID   23520 non-null  int64         \n",
            " 5   SEASON            23520 non-null  int64         \n",
            " 6   TEAM_ID_home      23520 non-null  int64         \n",
            " 7   PTS_home          23421 non-null  float64       \n",
            " 8   FG_PCT_home       23421 non-null  float64       \n",
            " 9   FT_PCT_home       23421 non-null  float64       \n",
            " 10  FG3_PCT_home      23421 non-null  float64       \n",
            " 11  AST_home          23421 non-null  float64       \n",
            " 12  REB_home          23421 non-null  float64       \n",
            " 13  TEAM_ID_away      23520 non-null  int64         \n",
            " 14  PTS_away          23421 non-null  float64       \n",
            " 15  FG_PCT_away       23421 non-null  float64       \n",
            " 16  FT_PCT_away       23421 non-null  float64       \n",
            " 17  FG3_PCT_away      23421 non-null  float64       \n",
            " 18  AST_away          23421 non-null  float64       \n",
            " 19  REB_away          23421 non-null  float64       \n",
            " 20  HOME_TEAM_WINS    23520 non-null  int64         \n",
            "dtypes: datetime64[ns](1), float64(12), int64(7), object(1)\n",
            "memory usage: 3.8+ MB\n"
          ],
          "name": "stdout"
        }
      ]
    },
    {
      "cell_type": "code",
      "metadata": {
        "id": "eHL3pZRDyj7i"
      },
      "source": [
        "df = df.sort_values(by='GAME_DATE_EST')"
      ],
      "execution_count": null,
      "outputs": []
    },
    {
      "cell_type": "code",
      "metadata": {
        "id": "AEFmHIhh33l2"
      },
      "source": [
        "df = df.reset_index()"
      ],
      "execution_count": null,
      "outputs": []
    },
    {
      "cell_type": "code",
      "metadata": {
        "id": "j4Rkzz7n3lxg"
      },
      "source": [
        "del df['index']"
      ],
      "execution_count": null,
      "outputs": []
    },
    {
      "cell_type": "code",
      "metadata": {
        "colab": {
          "base_uri": "https://localhost:8080/",
          "height": 224
        },
        "id": "edZ3o3Nd4I5q",
        "outputId": "605d2d66-da80-4c28-d960-eb35fcb182e2"
      },
      "source": [
        "# 시간순서대로 정렬한뒤 , 인덱스 초기화\r\n",
        "\r\n",
        "df.head()"
      ],
      "execution_count": null,
      "outputs": [
        {
          "output_type": "execute_result",
          "data": {
            "text/html": [
              "<div>\n",
              "<style scoped>\n",
              "    .dataframe tbody tr th:only-of-type {\n",
              "        vertical-align: middle;\n",
              "    }\n",
              "\n",
              "    .dataframe tbody tr th {\n",
              "        vertical-align: top;\n",
              "    }\n",
              "\n",
              "    .dataframe thead th {\n",
              "        text-align: right;\n",
              "    }\n",
              "</style>\n",
              "<table border=\"1\" class=\"dataframe\">\n",
              "  <thead>\n",
              "    <tr style=\"text-align: right;\">\n",
              "      <th></th>\n",
              "      <th>GAME_DATE_EST</th>\n",
              "      <th>GAME_ID</th>\n",
              "      <th>GAME_STATUS_TEXT</th>\n",
              "      <th>HOME_TEAM_ID</th>\n",
              "      <th>VISITOR_TEAM_ID</th>\n",
              "      <th>SEASON</th>\n",
              "      <th>TEAM_ID_home</th>\n",
              "      <th>PTS_home</th>\n",
              "      <th>FG_PCT_home</th>\n",
              "      <th>FT_PCT_home</th>\n",
              "      <th>FG3_PCT_home</th>\n",
              "      <th>AST_home</th>\n",
              "      <th>REB_home</th>\n",
              "      <th>TEAM_ID_away</th>\n",
              "      <th>PTS_away</th>\n",
              "      <th>FG_PCT_away</th>\n",
              "      <th>FT_PCT_away</th>\n",
              "      <th>FG3_PCT_away</th>\n",
              "      <th>AST_away</th>\n",
              "      <th>REB_away</th>\n",
              "      <th>HOME_TEAM_WINS</th>\n",
              "    </tr>\n",
              "  </thead>\n",
              "  <tbody>\n",
              "    <tr>\n",
              "      <th>0</th>\n",
              "      <td>2003-10-05</td>\n",
              "      <td>10300001</td>\n",
              "      <td>Final</td>\n",
              "      <td>1610612762</td>\n",
              "      <td>1610612742</td>\n",
              "      <td>2003</td>\n",
              "      <td>1610612762</td>\n",
              "      <td>90.0</td>\n",
              "      <td>0.457</td>\n",
              "      <td>0.735</td>\n",
              "      <td>0.143</td>\n",
              "      <td>23.0</td>\n",
              "      <td>41.0</td>\n",
              "      <td>1610612742</td>\n",
              "      <td>85.0</td>\n",
              "      <td>0.447</td>\n",
              "      <td>0.500</td>\n",
              "      <td>0.250</td>\n",
              "      <td>20.0</td>\n",
              "      <td>38.0</td>\n",
              "      <td>1</td>\n",
              "    </tr>\n",
              "    <tr>\n",
              "      <th>1</th>\n",
              "      <td>2003-10-06</td>\n",
              "      <td>10300002</td>\n",
              "      <td>Final</td>\n",
              "      <td>1610612763</td>\n",
              "      <td>1610612749</td>\n",
              "      <td>2003</td>\n",
              "      <td>1610612763</td>\n",
              "      <td>105.0</td>\n",
              "      <td>0.494</td>\n",
              "      <td>0.618</td>\n",
              "      <td>0.267</td>\n",
              "      <td>25.0</td>\n",
              "      <td>48.0</td>\n",
              "      <td>1610612749</td>\n",
              "      <td>94.0</td>\n",
              "      <td>0.427</td>\n",
              "      <td>0.700</td>\n",
              "      <td>0.154</td>\n",
              "      <td>20.0</td>\n",
              "      <td>43.0</td>\n",
              "      <td>1</td>\n",
              "    </tr>\n",
              "    <tr>\n",
              "      <th>2</th>\n",
              "      <td>2003-10-07</td>\n",
              "      <td>10300009</td>\n",
              "      <td>Final</td>\n",
              "      <td>1610612758</td>\n",
              "      <td>1610612746</td>\n",
              "      <td>2003</td>\n",
              "      <td>1610612758</td>\n",
              "      <td>101.0</td>\n",
              "      <td>0.467</td>\n",
              "      <td>0.871</td>\n",
              "      <td>0.444</td>\n",
              "      <td>19.0</td>\n",
              "      <td>39.0</td>\n",
              "      <td>1610612746</td>\n",
              "      <td>82.0</td>\n",
              "      <td>0.368</td>\n",
              "      <td>0.609</td>\n",
              "      <td>0.364</td>\n",
              "      <td>13.0</td>\n",
              "      <td>50.0</td>\n",
              "      <td>1</td>\n",
              "    </tr>\n",
              "    <tr>\n",
              "      <th>3</th>\n",
              "      <td>2003-10-07</td>\n",
              "      <td>10300005</td>\n",
              "      <td>Final</td>\n",
              "      <td>1610612757</td>\n",
              "      <td>1610612745</td>\n",
              "      <td>2003</td>\n",
              "      <td>1610612757</td>\n",
              "      <td>104.0</td>\n",
              "      <td>0.527</td>\n",
              "      <td>0.657</td>\n",
              "      <td>0.429</td>\n",
              "      <td>22.0</td>\n",
              "      <td>33.0</td>\n",
              "      <td>1610612745</td>\n",
              "      <td>80.0</td>\n",
              "      <td>0.470</td>\n",
              "      <td>0.667</td>\n",
              "      <td>0.333</td>\n",
              "      <td>10.0</td>\n",
              "      <td>37.0</td>\n",
              "      <td>1</td>\n",
              "    </tr>\n",
              "    <tr>\n",
              "      <th>4</th>\n",
              "      <td>2003-10-07</td>\n",
              "      <td>10300007</td>\n",
              "      <td>Final</td>\n",
              "      <td>1610612748</td>\n",
              "      <td>1610612755</td>\n",
              "      <td>2003</td>\n",
              "      <td>1610612748</td>\n",
              "      <td>86.0</td>\n",
              "      <td>0.352</td>\n",
              "      <td>0.647</td>\n",
              "      <td>0.222</td>\n",
              "      <td>15.0</td>\n",
              "      <td>55.0</td>\n",
              "      <td>1610612755</td>\n",
              "      <td>79.0</td>\n",
              "      <td>0.329</td>\n",
              "      <td>0.897</td>\n",
              "      <td>0.143</td>\n",
              "      <td>7.0</td>\n",
              "      <td>44.0</td>\n",
              "      <td>1</td>\n",
              "    </tr>\n",
              "  </tbody>\n",
              "</table>\n",
              "</div>"
            ],
            "text/plain": [
              "  GAME_DATE_EST   GAME_ID GAME_STATUS_TEXT  ...  AST_away  REB_away  HOME_TEAM_WINS\n",
              "0    2003-10-05  10300001            Final  ...      20.0      38.0               1\n",
              "1    2003-10-06  10300002            Final  ...      20.0      43.0               1\n",
              "2    2003-10-07  10300009            Final  ...      13.0      50.0               1\n",
              "3    2003-10-07  10300005            Final  ...      10.0      37.0               1\n",
              "4    2003-10-07  10300007            Final  ...       7.0      44.0               1\n",
              "\n",
              "[5 rows x 21 columns]"
            ]
          },
          "metadata": {
            "tags": []
          },
          "execution_count": 12
        }
      ]
    },
    {
      "cell_type": "code",
      "metadata": {
        "colab": {
          "base_uri": "https://localhost:8080/"
        },
        "id": "U1CztkMDFsao",
        "outputId": "57adaf97-e96a-4460-c2a1-d4aa238a2096"
      },
      "source": [
        "#필요한 특성값만 추출하기 위해 컬럼 확인\r\n",
        "\r\n",
        "df.columns"
      ],
      "execution_count": null,
      "outputs": [
        {
          "output_type": "execute_result",
          "data": {
            "text/plain": [
              "Index(['GAME_DATE_EST', 'GAME_ID', 'GAME_STATUS_TEXT', 'HOME_TEAM_ID',\n",
              "       'VISITOR_TEAM_ID', 'SEASON', 'TEAM_ID_home', 'PTS_home', 'FG_PCT_home',\n",
              "       'FT_PCT_home', 'FG3_PCT_home', 'AST_home', 'REB_home', 'TEAM_ID_away',\n",
              "       'PTS_away', 'FG_PCT_away', 'FT_PCT_away', 'FG3_PCT_away', 'AST_away',\n",
              "       'REB_away', 'HOME_TEAM_WINS'],\n",
              "      dtype='object')"
            ]
          },
          "metadata": {
            "tags": []
          },
          "execution_count": 13
        }
      ]
    },
    {
      "cell_type": "code",
      "metadata": {
        "id": "LUvKztNxFySC"
      },
      "source": [
        "df= df[['GAME_DATE_EST', 'SEASON', 'HOME_TEAM_ID','VISITOR_TEAM_ID','PTS_home', 'FG_PCT_home','FT_PCT_home', 'FG3_PCT_home', 'AST_home', 'REB_home', 'TEAM_ID_away','PTS_away', 'FG_PCT_away', 'FT_PCT_away', 'FG3_PCT_away', 'AST_away',\r\n",
        "       'REB_away', 'HOME_TEAM_WINS']]"
      ],
      "execution_count": null,
      "outputs": []
    },
    {
      "cell_type": "code",
      "metadata": {
        "id": "v937pb7eJMSL"
      },
      "source": [
        "# TEAM ID 숫자를 약어로 변경\r\n",
        "for i in range(0,30):\r\n",
        "    df = df.replace(df_team['TEAM_ID'][i],df_team['ABBREVIATION'][i])"
      ],
      "execution_count": null,
      "outputs": []
    },
    {
      "cell_type": "code",
      "metadata": {
        "colab": {
          "base_uri": "https://localhost:8080/",
          "height": 224
        },
        "id": "L-4Gl6IXIssu",
        "outputId": "5665633b-adcc-4079-ae06-3b9c67e6240e"
      },
      "source": [
        "df.head()"
      ],
      "execution_count": null,
      "outputs": [
        {
          "output_type": "execute_result",
          "data": {
            "text/html": [
              "<div>\n",
              "<style scoped>\n",
              "    .dataframe tbody tr th:only-of-type {\n",
              "        vertical-align: middle;\n",
              "    }\n",
              "\n",
              "    .dataframe tbody tr th {\n",
              "        vertical-align: top;\n",
              "    }\n",
              "\n",
              "    .dataframe thead th {\n",
              "        text-align: right;\n",
              "    }\n",
              "</style>\n",
              "<table border=\"1\" class=\"dataframe\">\n",
              "  <thead>\n",
              "    <tr style=\"text-align: right;\">\n",
              "      <th></th>\n",
              "      <th>GAME_DATE_EST</th>\n",
              "      <th>SEASON</th>\n",
              "      <th>HOME_TEAM_ID</th>\n",
              "      <th>VISITOR_TEAM_ID</th>\n",
              "      <th>PTS_home</th>\n",
              "      <th>FG_PCT_home</th>\n",
              "      <th>FT_PCT_home</th>\n",
              "      <th>FG3_PCT_home</th>\n",
              "      <th>AST_home</th>\n",
              "      <th>REB_home</th>\n",
              "      <th>TEAM_ID_away</th>\n",
              "      <th>PTS_away</th>\n",
              "      <th>FG_PCT_away</th>\n",
              "      <th>FT_PCT_away</th>\n",
              "      <th>FG3_PCT_away</th>\n",
              "      <th>AST_away</th>\n",
              "      <th>REB_away</th>\n",
              "      <th>HOME_TEAM_WINS</th>\n",
              "    </tr>\n",
              "  </thead>\n",
              "  <tbody>\n",
              "    <tr>\n",
              "      <th>0</th>\n",
              "      <td>2003-10-05</td>\n",
              "      <td>2003</td>\n",
              "      <td>UTA</td>\n",
              "      <td>DAL</td>\n",
              "      <td>90.0</td>\n",
              "      <td>0.457</td>\n",
              "      <td>0.735</td>\n",
              "      <td>0.143</td>\n",
              "      <td>23.0</td>\n",
              "      <td>41.0</td>\n",
              "      <td>DAL</td>\n",
              "      <td>85.0</td>\n",
              "      <td>0.447</td>\n",
              "      <td>0.500</td>\n",
              "      <td>0.250</td>\n",
              "      <td>20.0</td>\n",
              "      <td>38.0</td>\n",
              "      <td>1</td>\n",
              "    </tr>\n",
              "    <tr>\n",
              "      <th>1</th>\n",
              "      <td>2003-10-06</td>\n",
              "      <td>2003</td>\n",
              "      <td>MEM</td>\n",
              "      <td>MIL</td>\n",
              "      <td>105.0</td>\n",
              "      <td>0.494</td>\n",
              "      <td>0.618</td>\n",
              "      <td>0.267</td>\n",
              "      <td>25.0</td>\n",
              "      <td>48.0</td>\n",
              "      <td>MIL</td>\n",
              "      <td>94.0</td>\n",
              "      <td>0.427</td>\n",
              "      <td>0.700</td>\n",
              "      <td>0.154</td>\n",
              "      <td>20.0</td>\n",
              "      <td>43.0</td>\n",
              "      <td>1</td>\n",
              "    </tr>\n",
              "    <tr>\n",
              "      <th>2</th>\n",
              "      <td>2003-10-07</td>\n",
              "      <td>2003</td>\n",
              "      <td>SAC</td>\n",
              "      <td>LAC</td>\n",
              "      <td>101.0</td>\n",
              "      <td>0.467</td>\n",
              "      <td>0.871</td>\n",
              "      <td>0.444</td>\n",
              "      <td>19.0</td>\n",
              "      <td>39.0</td>\n",
              "      <td>LAC</td>\n",
              "      <td>82.0</td>\n",
              "      <td>0.368</td>\n",
              "      <td>0.609</td>\n",
              "      <td>0.364</td>\n",
              "      <td>13.0</td>\n",
              "      <td>50.0</td>\n",
              "      <td>1</td>\n",
              "    </tr>\n",
              "    <tr>\n",
              "      <th>3</th>\n",
              "      <td>2003-10-07</td>\n",
              "      <td>2003</td>\n",
              "      <td>POR</td>\n",
              "      <td>HOU</td>\n",
              "      <td>104.0</td>\n",
              "      <td>0.527</td>\n",
              "      <td>0.657</td>\n",
              "      <td>0.429</td>\n",
              "      <td>22.0</td>\n",
              "      <td>33.0</td>\n",
              "      <td>HOU</td>\n",
              "      <td>80.0</td>\n",
              "      <td>0.470</td>\n",
              "      <td>0.667</td>\n",
              "      <td>0.333</td>\n",
              "      <td>10.0</td>\n",
              "      <td>37.0</td>\n",
              "      <td>1</td>\n",
              "    </tr>\n",
              "    <tr>\n",
              "      <th>4</th>\n",
              "      <td>2003-10-07</td>\n",
              "      <td>2003</td>\n",
              "      <td>MIA</td>\n",
              "      <td>PHI</td>\n",
              "      <td>86.0</td>\n",
              "      <td>0.352</td>\n",
              "      <td>0.647</td>\n",
              "      <td>0.222</td>\n",
              "      <td>15.0</td>\n",
              "      <td>55.0</td>\n",
              "      <td>PHI</td>\n",
              "      <td>79.0</td>\n",
              "      <td>0.329</td>\n",
              "      <td>0.897</td>\n",
              "      <td>0.143</td>\n",
              "      <td>7.0</td>\n",
              "      <td>44.0</td>\n",
              "      <td>1</td>\n",
              "    </tr>\n",
              "  </tbody>\n",
              "</table>\n",
              "</div>"
            ],
            "text/plain": [
              "  GAME_DATE_EST  SEASON HOME_TEAM_ID  ... AST_away  REB_away  HOME_TEAM_WINS\n",
              "0    2003-10-05    2003          UTA  ...     20.0      38.0               1\n",
              "1    2003-10-06    2003          MEM  ...     20.0      43.0               1\n",
              "2    2003-10-07    2003          SAC  ...     13.0      50.0               1\n",
              "3    2003-10-07    2003          POR  ...     10.0      37.0               1\n",
              "4    2003-10-07    2003          MIA  ...      7.0      44.0               1\n",
              "\n",
              "[5 rows x 18 columns]"
            ]
          },
          "metadata": {
            "tags": []
          },
          "execution_count": 16
        }
      ]
    },
    {
      "cell_type": "code",
      "metadata": {
        "colab": {
          "base_uri": "https://localhost:8080/"
        },
        "id": "08DR49jiLQfp",
        "outputId": "5c099fa9-b5f8-4812-9c69-cd99f025ea50"
      },
      "source": [
        "df['HOME_TEAM_ID'].unique()"
      ],
      "execution_count": null,
      "outputs": [
        {
          "output_type": "execute_result",
          "data": {
            "text/plain": [
              "array(['UTA', 'MEM', 'SAC', 'POR', 'MIA', 'PHX', 'DAL', 'DET', 'WAS',\n",
              "       'LAL', 'BOS', 'SAS', 'ATL', 'TOR', 'NOP', 'OKC', 'IND', 'MIL',\n",
              "       'DEN', 'NYK', 'CHI', 'LAC', 'HOU', 'ORL', 'PHI', 'GSW', 'MIN',\n",
              "       'CLE', 'BKN', 'CHA'], dtype=object)"
            ]
          },
          "metadata": {
            "tags": []
          },
          "execution_count": 17
        }
      ]
    },
    {
      "cell_type": "code",
      "metadata": {
        "id": "4O2pFyTxWgtA"
      },
      "source": [
        "#결측치 제거\r\n",
        "\r\n",
        "df = df.dropna()"
      ],
      "execution_count": null,
      "outputs": []
    },
    {
      "cell_type": "code",
      "metadata": {
        "id": "-CidBQc606LG"
      },
      "source": [
        "#filtered_df =df.loc[df[\"GAME_DATE_EST\"].between('2019-10-01', '2020-10-31')]\r\n",
        "#print(filtered_df)\r\n",
        "#filtered_df.head()"
      ],
      "execution_count": null,
      "outputs": []
    },
    {
      "cell_type": "code",
      "metadata": {
        "colab": {
          "base_uri": "https://localhost:8080/",
          "height": 35
        },
        "id": "BQoRRaAdUG3g",
        "outputId": "0d3e6856-6c65-4064-8dab-b743edfc7db9"
      },
      "source": [
        "df_team['ABBREVIATION'][0]"
      ],
      "execution_count": null,
      "outputs": [
        {
          "output_type": "execute_result",
          "data": {
            "application/vnd.google.colaboratory.intrinsic+json": {
              "type": "string"
            },
            "text/plain": [
              "'ATL'"
            ]
          },
          "metadata": {
            "tags": []
          },
          "execution_count": 20
        }
      ]
    },
    {
      "cell_type": "code",
      "metadata": {
        "colab": {
          "base_uri": "https://localhost:8080/"
        },
        "id": "VDqU5YHVSEtS",
        "outputId": "dfc1b495-8fff-40c4-a4e1-f75c2000ed08"
      },
      "source": [
        "# 각 팀별 총 홈경기 승률분석\r\n",
        "# 해당 평균값이 각 팀별 BASELINE 평가지표\r\n",
        "\r\n",
        "for i in range(0,30):\r\n",
        "    print(df_team['ABBREVIATION'][i])\r\n",
        "    print(df[df['HOME_TEAM_ID'] == df_team['ABBREVIATION'][i]]['HOME_TEAM_WINS'].mean())"
      ],
      "execution_count": null,
      "outputs": [
        {
          "output_type": "stream",
          "text": [
            "ATL\n",
            "0.5607235142118863\n",
            "BOS\n",
            "0.6378896882494005\n",
            "NOP\n",
            "0.5475234270414994\n",
            "CHI\n",
            "0.5831234256926953\n",
            "DAL\n",
            "0.6582914572864321\n",
            "DEN\n",
            "0.6840052015604682\n",
            "HOU\n",
            "0.6770963704630788\n",
            "LAC\n",
            "0.5966921119592875\n",
            "LAL\n",
            "0.6072261072261073\n",
            "MIA\n",
            "0.6646919431279621\n",
            "MIL\n",
            "0.5609436435124509\n",
            "MIN\n",
            "0.46900269541778977\n",
            "BKN\n",
            "0.4954248366013072\n",
            "NYK\n",
            "0.46185286103542234\n",
            "ORL\n",
            "0.5465116279069767\n",
            "IND\n",
            "0.6463878326996197\n",
            "PHI\n",
            "0.519053876478318\n",
            "PHX\n",
            "0.5512321660181583\n",
            "POR\n",
            "0.6212710765239948\n",
            "SAC\n",
            "0.5\n",
            "SAS\n",
            "0.7739234449760766\n",
            "OKC\n",
            "0.6355611601513241\n",
            "TOR\n",
            "0.602287166454892\n",
            "UTA\n",
            "0.6491458607095927\n",
            "MEM\n",
            "0.5932642487046632\n",
            "WAS\n",
            "0.5339547270306259\n",
            "DET\n",
            "0.59875\n",
            "CHA\n",
            "0.49642346208869814\n",
            "CLE\n",
            "0.6100244498777506\n",
            "GSW\n",
            "0.6582597730138714\n"
          ],
          "name": "stdout"
        }
      ]
    },
    {
      "cell_type": "code",
      "metadata": {
        "colab": {
          "base_uri": "https://localhost:8080/"
        },
        "id": "aVUFjo_1Wsj9",
        "outputId": "eac198ed-b72e-41ce-8486-6505d8e1f13a"
      },
      "source": [
        "df.info()"
      ],
      "execution_count": null,
      "outputs": [
        {
          "output_type": "stream",
          "text": [
            "<class 'pandas.core.frame.DataFrame'>\n",
            "Int64Index: 23421 entries, 0 to 23519\n",
            "Data columns (total 18 columns):\n",
            " #   Column           Non-Null Count  Dtype         \n",
            "---  ------           --------------  -----         \n",
            " 0   GAME_DATE_EST    23421 non-null  datetime64[ns]\n",
            " 1   SEASON           23421 non-null  int64         \n",
            " 2   HOME_TEAM_ID     23421 non-null  object        \n",
            " 3   VISITOR_TEAM_ID  23421 non-null  object        \n",
            " 4   PTS_home         23421 non-null  float64       \n",
            " 5   FG_PCT_home      23421 non-null  float64       \n",
            " 6   FT_PCT_home      23421 non-null  float64       \n",
            " 7   FG3_PCT_home     23421 non-null  float64       \n",
            " 8   AST_home         23421 non-null  float64       \n",
            " 9   REB_home         23421 non-null  float64       \n",
            " 10  TEAM_ID_away     23421 non-null  object        \n",
            " 11  PTS_away         23421 non-null  float64       \n",
            " 12  FG_PCT_away      23421 non-null  float64       \n",
            " 13  FT_PCT_away      23421 non-null  float64       \n",
            " 14  FG3_PCT_away     23421 non-null  float64       \n",
            " 15  AST_away         23421 non-null  float64       \n",
            " 16  REB_away         23421 non-null  float64       \n",
            " 17  HOME_TEAM_WINS   23421 non-null  int64         \n",
            "dtypes: datetime64[ns](1), float64(12), int64(2), object(3)\n",
            "memory usage: 3.4+ MB\n"
          ],
          "name": "stdout"
        }
      ]
    },
    {
      "cell_type": "code",
      "metadata": {
        "id": "tbgMs-8dWxhq"
      },
      "source": [
        "# train, val, test 를 6:2:2 나누어줌\r\n",
        "\r\n",
        "test = df[-4600:]\r\n",
        "val = df[-9200:-4600]\r\n",
        "train = df[:-9200]"
      ],
      "execution_count": null,
      "outputs": []
    },
    {
      "cell_type": "code",
      "metadata": {
        "colab": {
          "base_uri": "https://localhost:8080/"
        },
        "id": "894pmYtXXDvS",
        "outputId": "9e1be50a-6c9b-480c-c338-b569180a0a08"
      },
      "source": [
        "train.shape , val.shape , test.shape"
      ],
      "execution_count": null,
      "outputs": [
        {
          "output_type": "execute_result",
          "data": {
            "text/plain": [
              "((14221, 18), (4600, 18), (4600, 18))"
            ]
          },
          "metadata": {
            "tags": []
          },
          "execution_count": 24
        }
      ]
    },
    {
      "cell_type": "markdown",
      "metadata": {
        "id": "85JikYQVVjVi"
      },
      "source": [
        "\r\n",
        "\r\n",
        "---\r\n",
        "\r\n"
      ]
    },
    {
      "cell_type": "markdown",
      "metadata": {
        "id": "mJEdPaVRV4uG"
      },
      "source": [
        "# 데이터특징\r\n",
        "#### 시계열 데이터이기 때문에 Hold out 교차검증으로 진행\r\n",
        "#### Cross validation 방법은 부적합"
      ]
    },
    {
      "cell_type": "markdown",
      "metadata": {
        "id": "SxR6aPeSVl_d"
      },
      "source": [
        "# 다양한 방법으로 모델링 진행, 최적화 작업 후 그 결과를 비교해보도록 하겠습니다\r\n",
        "\r\n",
        "##### 방법1) 결정트리\r\n",
        "##### 방법2) 랜덤포레스트"
      ]
    },
    {
      "cell_type": "markdown",
      "metadata": {
        "id": "pa6TJetrbUTq"
      },
      "source": [
        "# 방법1) 결정트리"
      ]
    },
    {
      "cell_type": "code",
      "metadata": {
        "id": "fg_4YfOOZw9d"
      },
      "source": [
        "del train['GAME_DATE_EST']\r\n",
        "del val['GAME_DATE_EST']\r\n",
        "del test['GAME_DATE_EST']"
      ],
      "execution_count": null,
      "outputs": []
    },
    {
      "cell_type": "code",
      "metadata": {
        "id": "irJs6v9aXw3v"
      },
      "source": [
        "target = 'HOME_TEAM_WINS'"
      ],
      "execution_count": null,
      "outputs": []
    },
    {
      "cell_type": "code",
      "metadata": {
        "id": "wnib5hcvX6Bj"
      },
      "source": [
        "features = train.drop(columns=[target]).columns"
      ],
      "execution_count": null,
      "outputs": []
    },
    {
      "cell_type": "code",
      "metadata": {
        "id": "CAP6LtJrX2ZN"
      },
      "source": [
        "X_train = train[features]\r\n",
        "y_train = train[target]\r\n",
        "\r\n",
        "X_val = val[features]\r\n",
        "y_val = val[target]\r\n",
        "\r\n",
        "X_test = test[features]\r\n",
        "y_test = test[target]"
      ],
      "execution_count": null,
      "outputs": []
    },
    {
      "cell_type": "code",
      "metadata": {
        "colab": {
          "base_uri": "https://localhost:8080/"
        },
        "id": "hUFU0MD2X9Ta",
        "outputId": "f929b787-62c2-4af2-9b88-87003c2e796c"
      },
      "source": [
        "!pip install category_encoders"
      ],
      "execution_count": null,
      "outputs": [
        {
          "output_type": "stream",
          "text": [
            "Collecting category_encoders\n",
            "\u001b[?25l  Downloading https://files.pythonhosted.org/packages/44/57/fcef41c248701ee62e8325026b90c432adea35555cbc870aff9cfba23727/category_encoders-2.2.2-py2.py3-none-any.whl (80kB)\n",
            "\r\u001b[K     |████                            | 10kB 13.3MB/s eta 0:00:01\r\u001b[K     |████████▏                       | 20kB 11.0MB/s eta 0:00:01\r\u001b[K     |████████████▏                   | 30kB 8.9MB/s eta 0:00:01\r\u001b[K     |████████████████▎               | 40kB 7.4MB/s eta 0:00:01\r\u001b[K     |████████████████████▎           | 51kB 4.3MB/s eta 0:00:01\r\u001b[K     |████████████████████████▍       | 61kB 4.9MB/s eta 0:00:01\r\u001b[K     |████████████████████████████▍   | 71kB 5.3MB/s eta 0:00:01\r\u001b[K     |████████████████████████████████| 81kB 3.5MB/s \n",
            "\u001b[?25hRequirement already satisfied: patsy>=0.5.1 in /usr/local/lib/python3.7/dist-packages (from category_encoders) (0.5.1)\n",
            "Requirement already satisfied: scipy>=1.0.0 in /usr/local/lib/python3.7/dist-packages (from category_encoders) (1.4.1)\n",
            "Requirement already satisfied: scikit-learn>=0.20.0 in /usr/local/lib/python3.7/dist-packages (from category_encoders) (0.22.2.post1)\n",
            "Requirement already satisfied: numpy>=1.14.0 in /usr/local/lib/python3.7/dist-packages (from category_encoders) (1.19.5)\n",
            "Requirement already satisfied: pandas>=0.21.1 in /usr/local/lib/python3.7/dist-packages (from category_encoders) (1.1.5)\n",
            "Requirement already satisfied: statsmodels>=0.9.0 in /usr/local/lib/python3.7/dist-packages (from category_encoders) (0.10.2)\n",
            "Requirement already satisfied: six in /usr/local/lib/python3.7/dist-packages (from patsy>=0.5.1->category_encoders) (1.15.0)\n",
            "Requirement already satisfied: joblib>=0.11 in /usr/local/lib/python3.7/dist-packages (from scikit-learn>=0.20.0->category_encoders) (1.0.1)\n",
            "Requirement already satisfied: pytz>=2017.2 in /usr/local/lib/python3.7/dist-packages (from pandas>=0.21.1->category_encoders) (2018.9)\n",
            "Requirement already satisfied: python-dateutil>=2.7.3 in /usr/local/lib/python3.7/dist-packages (from pandas>=0.21.1->category_encoders) (2.8.1)\n",
            "Installing collected packages: category-encoders\n",
            "Successfully installed category-encoders-2.2.2\n"
          ],
          "name": "stdout"
        }
      ]
    },
    {
      "cell_type": "code",
      "metadata": {
        "id": "iidly5QMX8Pa",
        "colab": {
          "base_uri": "https://localhost:8080/"
        },
        "outputId": "1493ab9b-09c4-4c85-ad69-ab797f0d2630"
      },
      "source": [
        "from category_encoders import OneHotEncoder\r\n",
        "from category_encoders import OrdinalEncoder\r\n",
        "from sklearn.impute import SimpleImputer\r\n",
        "from sklearn.preprocessing import StandardScaler\r\n",
        "from sklearn.linear_model import LogisticRegression\r\n",
        "from sklearn.pipeline import make_pipeline\r\n",
        "from sklearn.tree import DecisionTreeClassifier"
      ],
      "execution_count": null,
      "outputs": [
        {
          "output_type": "stream",
          "text": [
            "/usr/local/lib/python3.7/dist-packages/statsmodels/tools/_testing.py:19: FutureWarning: pandas.util.testing is deprecated. Use the functions in the public API at pandas.testing instead.\n",
            "  import pandas.util.testing as tm\n"
          ],
          "name": "stderr"
        }
      ]
    },
    {
      "cell_type": "code",
      "metadata": {
        "colab": {
          "base_uri": "https://localhost:8080/"
        },
        "id": "c0DZk1yxYIHP",
        "outputId": "a0717b13-0713-401a-ba49-9c2fbf56da01"
      },
      "source": [
        "pipe_tree = make_pipeline(\r\n",
        "    OneHotEncoder(use_cat_names=True), \r\n",
        "    SimpleImputer(), \r\n",
        "    DecisionTreeClassifier(random_state=2, criterion='entropy')\r\n",
        ")\r\n",
        "\r\n",
        "pipe_tree.fit(X_train, y_train)"
      ],
      "execution_count": null,
      "outputs": [
        {
          "output_type": "stream",
          "text": [
            "/usr/local/lib/python3.7/dist-packages/category_encoders/utils.py:21: FutureWarning: is_categorical is deprecated and will be removed in a future version.  Use is_categorical_dtype instead\n",
            "  elif pd.api.types.is_categorical(cols):\n"
          ],
          "name": "stderr"
        },
        {
          "output_type": "execute_result",
          "data": {
            "text/plain": [
              "Pipeline(memory=None,\n",
              "         steps=[('onehotencoder',\n",
              "                 OneHotEncoder(cols=['HOME_TEAM_ID', 'VISITOR_TEAM_ID',\n",
              "                                     'TEAM_ID_away'],\n",
              "                               drop_invariant=False, handle_missing='value',\n",
              "                               handle_unknown='value', return_df=True,\n",
              "                               use_cat_names=True, verbose=0)),\n",
              "                ('simpleimputer',\n",
              "                 SimpleImputer(add_indicator=False, copy=True, fill_value=None,\n",
              "                               missing_values=nan, strategy='mean',\n",
              "                               verbose=0)),\n",
              "                ('decisiontreeclassifier',\n",
              "                 DecisionTreeClassifier(ccp_alpha=0.0, class_weight=None,\n",
              "                                        criterion='entropy', max_depth=None,\n",
              "                                        max_features=None, max_leaf_nodes=None,\n",
              "                                        min_impurity_decrease=0.0,\n",
              "                                        min_impurity_split=None,\n",
              "                                        min_samples_leaf=1, min_samples_split=2,\n",
              "                                        min_weight_fraction_leaf=0.0,\n",
              "                                        presort='deprecated', random_state=2,\n",
              "                                        splitter='best'))],\n",
              "         verbose=False)"
            ]
          },
          "metadata": {
            "tags": []
          },
          "execution_count": 31
        }
      ]
    },
    {
      "cell_type": "code",
      "metadata": {
        "colab": {
          "base_uri": "https://localhost:8080/"
        },
        "id": "PNcYJpN3ZYmJ",
        "outputId": "9d818789-3f0f-4b31-faf7-1f763d1fdde1"
      },
      "source": [
        "#과적합 문제 발생\r\n",
        "\r\n",
        "print('훈련 정확도', pipe_tree.score(X_train, y_train))\r\n",
        "print('검증 정확도', pipe_tree.score(X_val, y_val))"
      ],
      "execution_count": null,
      "outputs": [
        {
          "output_type": "stream",
          "text": [
            "훈련 정확도 1.0\n",
            "검증 정확도 0.9976086956521739\n"
          ],
          "name": "stdout"
        }
      ]
    },
    {
      "cell_type": "code",
      "metadata": {
        "colab": {
          "base_uri": "https://localhost:8080/"
        },
        "id": "2MlGq1MhaVU_",
        "outputId": "f2b53edc-575d-4b10-fce7-c99302a4e807"
      },
      "source": [
        "y_val.value_counts(normalize=True)"
      ],
      "execution_count": null,
      "outputs": [
        {
          "output_type": "execute_result",
          "data": {
            "text/plain": [
              "1    0.583478\n",
              "0    0.416522\n",
              "Name: HOME_TEAM_WINS, dtype: float64"
            ]
          },
          "metadata": {
            "tags": []
          },
          "execution_count": 33
        }
      ]
    },
    {
      "cell_type": "code",
      "metadata": {
        "colab": {
          "base_uri": "https://localhost:8080/"
        },
        "id": "MnTx0xR1afaP",
        "outputId": "c834cd60-1863-443e-816b-5f51842a1cc2"
      },
      "source": [
        "# 복잡도를 낮추어 일반화 유도 (1)\r\n",
        "\r\n",
        "pipe_tree_2 = make_pipeline(\r\n",
        "    OneHotEncoder(use_cat_names=True), \r\n",
        "    SimpleImputer(), \r\n",
        "    DecisionTreeClassifier(min_samples_leaf=10, random_state=2)\r\n",
        ")\r\n",
        "\r\n",
        "pipe_tree_2.fit(X_train, y_train)\r\n",
        "print('훈련 정확도', pipe_tree_2.score(X_train, y_train))\r\n",
        "print('검증 정확도', pipe_tree_2.score(X_val, y_val))\r\n",
        "print('테스트 정확도', pipe_tree_2.score(X_test, y_test))"
      ],
      "execution_count": null,
      "outputs": [
        {
          "output_type": "stream",
          "text": [
            "/usr/local/lib/python3.7/dist-packages/category_encoders/utils.py:21: FutureWarning: is_categorical is deprecated and will be removed in a future version.  Use is_categorical_dtype instead\n",
            "  elif pd.api.types.is_categorical(cols):\n"
          ],
          "name": "stderr"
        },
        {
          "output_type": "stream",
          "text": [
            "훈련 정확도 0.996343435764011\n",
            "검증 정확도 0.9928260869565217\n",
            "테스트 정확도 0.9876086956521739\n"
          ],
          "name": "stdout"
        }
      ]
    },
    {
      "cell_type": "code",
      "metadata": {
        "colab": {
          "base_uri": "https://localhost:8080/"
        },
        "id": "LsL9GliKatDT",
        "outputId": "3fc3453e-cef1-4646-ba96-d68a62994a8b"
      },
      "source": [
        "#복잡도를 낮추어 일반화 유도 (2)\r\n",
        "\r\n",
        "pipe_tree_3 = make_pipeline(\r\n",
        "    OneHotEncoder(use_cat_names=True), \r\n",
        "    SimpleImputer(), \r\n",
        "    DecisionTreeClassifier(max_depth=6, random_state=2)\r\n",
        ")\r\n",
        "\r\n",
        "pipe_tree_3.fit(X_train, y_train)\r\n",
        "print('훈련 정확도', pipe_tree_3.score(X_train, y_train))\r\n",
        "print('검증 정확도', pipe_tree_3.score(X_val, y_val))\r\n",
        "print('테스트 정확도', pipe_tree_3.score(X_test, y_test))"
      ],
      "execution_count": null,
      "outputs": [
        {
          "output_type": "stream",
          "text": [
            "/usr/local/lib/python3.7/dist-packages/category_encoders/utils.py:21: FutureWarning: is_categorical is deprecated and will be removed in a future version.  Use is_categorical_dtype instead\n",
            "  elif pd.api.types.is_categorical(cols):\n"
          ],
          "name": "stderr"
        },
        {
          "output_type": "stream",
          "text": [
            "훈련 정확도 0.9874129808030377\n",
            "검증 정확도 0.9817391304347826\n",
            "테스트 정확도 0.9482608695652174\n"
          ],
          "name": "stdout"
        }
      ]
    },
    {
      "cell_type": "markdown",
      "metadata": {
        "id": "JNNm8yyib2kj"
      },
      "source": [
        "# 방법2) 랜덤포레스트"
      ]
    },
    {
      "cell_type": "code",
      "metadata": {
        "colab": {
          "base_uri": "https://localhost:8080/"
        },
        "id": "pX7J4BY5b9Di",
        "outputId": "cab7b644-aa1b-4b0f-c6d3-50c2ad81afa9"
      },
      "source": [
        "from sklearn.ensemble import RandomForestClassifier\r\n",
        "\r\n",
        "\r\n",
        "pipe_random = make_pipeline(\r\n",
        "    OrdinalEncoder(), \r\n",
        "    SimpleImputer(), \r\n",
        "    RandomForestClassifier(n_jobs=-1, random_state=10, oob_score=True)\r\n",
        ")\r\n",
        "\r\n",
        "pipe_random.fit(X_train, y_train)\r\n",
        "print('훈련 정확도', pipe_random.score(X_train, y_train))\r\n",
        "print('검증 정확도', pipe_random.score(X_val, y_val))\r\n",
        "print('테스트 정확도', pipe_random.score(X_test, y_test))"
      ],
      "execution_count": null,
      "outputs": [
        {
          "output_type": "stream",
          "text": [
            "훈련 정확도 1.0\n",
            "검증 정확도 0.9830434782608696\n",
            "테스트 정확도 0.9602173913043478\n"
          ],
          "name": "stdout"
        }
      ]
    },
    {
      "cell_type": "code",
      "metadata": {
        "colab": {
          "base_uri": "https://localhost:8080/",
          "height": 297
        },
        "id": "y7GdANR3dAU8",
        "outputId": "bad90a3e-0c72-4b22-f1cd-de0b21517fd7"
      },
      "source": [
        "# 해당 모델의 성능 평가 지표를 분석해보도록 하겠습니다\r\n",
        "\r\n",
        "from sklearn.metrics import plot_confusion_matrix\r\n",
        "import matplotlib.pyplot as plt\r\n",
        "\r\n",
        "fig, ax = plt.subplots()\r\n",
        "pcm = plot_confusion_matrix(pipe_random, X_val, y_val,\r\n",
        "                            cmap=plt.cm.Blues,\r\n",
        "                            ax=ax);\r\n",
        "plt.title(f'Confusion matrix, n = {len(y_val)}', fontsize=15)\r\n",
        "plt.show()"
      ],
      "execution_count": null,
      "outputs": [
        {
          "output_type": "display_data",
          "data": {
            "image/png": "[encoded data removed]",
            "text/plain": [
              "<Figure size 432x288 with 2 Axes>"
            ]
          },
          "metadata": {
            "tags": [],
            "needs_background": "light"
          }
        }
      ]
    },
    {
      "cell_type": "code",
      "metadata": {
        "colab": {
          "base_uri": "https://localhost:8080/"
        },
        "id": "j9vR-Ef1dLug",
        "outputId": "a1d4ef79-a0d8-4559-bbf1-cd6d6f394c77"
      },
      "source": [
        "cm = pcm.confusion_matrix\r\n",
        "cm"
      ],
      "execution_count": null,
      "outputs": [
        {
          "output_type": "execute_result",
          "data": {
            "text/plain": [
              "array([[1860,   56],\n",
              "       [  22, 2662]])"
            ]
          },
          "metadata": {
            "tags": []
          },
          "execution_count": 38
        }
      ]
    },
    {
      "cell_type": "code",
      "metadata": {
        "colab": {
          "base_uri": "https://localhost:8080/"
        },
        "id": "Tf-dpmBxdQ7q",
        "outputId": "5024db14-9922-4821-8d29-8daaee40891b"
      },
      "source": [
        "# 정확하게 맞춘 예측 (TP+TN)\r\n",
        "\r\n",
        "import numpy as np\r\n",
        "\r\n",
        "correct_predictions = np.diag(cm).sum()\r\n",
        "correct_predictions"
      ],
      "execution_count": null,
      "outputs": [
        {
          "output_type": "execute_result",
          "data": {
            "text/plain": [
              "4522"
            ]
          },
          "metadata": {
            "tags": []
          },
          "execution_count": 39
        }
      ]
    },
    {
      "cell_type": "code",
      "metadata": {
        "colab": {
          "base_uri": "https://localhost:8080/"
        },
        "id": "SqARPXI1dX7f",
        "outputId": "dfcae802-3f07-4e99-a0ce-b1a0f8135e0c"
      },
      "source": [
        "# 총 예측한 수\r\n",
        "\r\n",
        "total_predictions = cm.sum()\r\n",
        "total_predictions"
      ],
      "execution_count": null,
      "outputs": [
        {
          "output_type": "execute_result",
          "data": {
            "text/plain": [
              "4600"
            ]
          },
          "metadata": {
            "tags": []
          },
          "execution_count": 40
        }
      ]
    },
    {
      "cell_type": "code",
      "metadata": {
        "colab": {
          "base_uri": "https://localhost:8080/"
        },
        "id": "DZKF2U3FdcO1",
        "outputId": "bd58fb15-91d9-4b60-ddd1-1da0586a18e2"
      },
      "source": [
        "#분류정확도\r\n",
        "\r\n",
        "correct_predictions/total_predictions"
      ],
      "execution_count": null,
      "outputs": [
        {
          "output_type": "execute_result",
          "data": {
            "text/plain": [
              "0.9830434782608696"
            ]
          },
          "metadata": {
            "tags": []
          },
          "execution_count": 41
        }
      ]
    },
    {
      "cell_type": "code",
      "metadata": {
        "colab": {
          "base_uri": "https://localhost:8080/"
        },
        "id": "Pc4UoNj7df9n",
        "outputId": "7f7d7a66-a56a-4522-b822-fcd6cb0b2f6a"
      },
      "source": [
        "from sklearn.metrics import classification_report\r\n",
        "\r\n",
        "y_pred = pipe_random.predict(X_val)\r\n",
        "\r\n",
        "print(classification_report(y_val, y_pred))"
      ],
      "execution_count": null,
      "outputs": [
        {
          "output_type": "stream",
          "text": [
            "              precision    recall  f1-score   support\n",
            "\n",
            "           0       0.99      0.97      0.98      1916\n",
            "           1       0.98      0.99      0.99      2684\n",
            "\n",
            "    accuracy                           0.98      4600\n",
            "   macro avg       0.98      0.98      0.98      4600\n",
            "weighted avg       0.98      0.98      0.98      4600\n",
            "\n"
          ],
          "name": "stdout"
        }
      ]
    },
    {
      "cell_type": "code",
      "metadata": {
        "colab": {
          "base_uri": "https://localhost:8080/"
        },
        "id": "QzrwJ889tgsc",
        "outputId": "ce939aec-6a64-4d7a-de9b-63c26e1012de"
      },
      "source": [
        "pipe_random.predict_proba(X_val)"
      ],
      "execution_count": null,
      "outputs": [
        {
          "output_type": "execute_result",
          "data": {
            "text/plain": [
              "array([[0.97, 0.03],\n",
              "       [0.99, 0.01],\n",
              "       [0.85, 0.15],\n",
              "       ...,\n",
              "       [0.  , 1.  ],\n",
              "       [0.01, 0.99],\n",
              "       [0.  , 1.  ]])"
            ]
          },
          "metadata": {
            "tags": []
          },
          "execution_count": 43
        }
      ]
    },
    {
      "cell_type": "code",
      "metadata": {
        "colab": {
          "base_uri": "https://localhost:8080/"
        },
        "id": "UIkDuf6ktjlh",
        "outputId": "a4f0122f-0007-43d0-a955-7dec419067a9"
      },
      "source": [
        "y_pred_proba = pipe_random.predict_proba(X_val)[:, 1]\r\n",
        "y_pred_proba"
      ],
      "execution_count": null,
      "outputs": [
        {
          "output_type": "execute_result",
          "data": {
            "text/plain": [
              "array([0.03, 0.01, 0.15, ..., 1.  , 0.99, 1.  ])"
            ]
          },
          "metadata": {
            "tags": []
          },
          "execution_count": 44
        }
      ]
    },
    {
      "cell_type": "code",
      "metadata": {
        "colab": {
          "base_uri": "https://localhost:8080/",
          "height": 369
        },
        "id": "sE5uBtGVtmnz",
        "outputId": "8d6326bd-db4c-4270-e9da-709a2090bc20"
      },
      "source": [
        "import seaborn as sns\r\n",
        "sns.displot(y_pred_proba);\r\n"
      ],
      "execution_count": null,
      "outputs": [
        {
          "output_type": "display_data",
          "data": {
            "image/png": "[encoded data removed]",
            "text/plain": [
              "<Figure size 360x360 with 1 Axes>"
            ]
          },
          "metadata": {
            "tags": [],
            "needs_background": "light"
          }
        }
      ]
    },
    {
      "cell_type": "code",
      "metadata": {
        "colab": {
          "base_uri": "https://localhost:8080/",
          "height": 419
        },
        "id": "3C-yDtobtv8a",
        "outputId": "d1fc3808-cc22-4c79-a349-e6134c1ea0ed"
      },
      "source": [
        "from sklearn.metrics import roc_curve\r\n",
        "\r\n",
        "# roc_curve(타겟값, prob of 1)\r\n",
        "fpr, tpr, thresholds = roc_curve(y_val, y_pred_proba)\r\n",
        "\r\n",
        "roc = pd.DataFrame({\r\n",
        "    'FPR(Fall-out)': fpr, \r\n",
        "    'TPRate(Recall)': tpr, \r\n",
        "    'Threshold': thresholds\r\n",
        "})\r\n",
        "roc"
      ],
      "execution_count": null,
      "outputs": [
        {
          "output_type": "execute_result",
          "data": {
            "text/html": [
              "<div>\n",
              "<style scoped>\n",
              "    .dataframe tbody tr th:only-of-type {\n",
              "        vertical-align: middle;\n",
              "    }\n",
              "\n",
              "    .dataframe tbody tr th {\n",
              "        vertical-align: top;\n",
              "    }\n",
              "\n",
              "    .dataframe thead th {\n",
              "        text-align: right;\n",
              "    }\n",
              "</style>\n",
              "<table border=\"1\" class=\"dataframe\">\n",
              "  <thead>\n",
              "    <tr style=\"text-align: right;\">\n",
              "      <th></th>\n",
              "      <th>FPR(Fall-out)</th>\n",
              "      <th>TPRate(Recall)</th>\n",
              "      <th>Threshold</th>\n",
              "    </tr>\n",
              "  </thead>\n",
              "  <tbody>\n",
              "    <tr>\n",
              "      <th>0</th>\n",
              "      <td>0.000000</td>\n",
              "      <td>0.000000</td>\n",
              "      <td>2.00</td>\n",
              "    </tr>\n",
              "    <tr>\n",
              "      <th>1</th>\n",
              "      <td>0.000000</td>\n",
              "      <td>0.163189</td>\n",
              "      <td>1.00</td>\n",
              "    </tr>\n",
              "    <tr>\n",
              "      <th>2</th>\n",
              "      <td>0.000000</td>\n",
              "      <td>0.283905</td>\n",
              "      <td>0.99</td>\n",
              "    </tr>\n",
              "    <tr>\n",
              "      <th>3</th>\n",
              "      <td>0.000000</td>\n",
              "      <td>0.369598</td>\n",
              "      <td>0.98</td>\n",
              "    </tr>\n",
              "    <tr>\n",
              "      <th>4</th>\n",
              "      <td>0.000000</td>\n",
              "      <td>0.431073</td>\n",
              "      <td>0.97</td>\n",
              "    </tr>\n",
              "    <tr>\n",
              "      <th>...</th>\n",
              "      <td>...</td>\n",
              "      <td>...</td>\n",
              "      <td>...</td>\n",
              "    </tr>\n",
              "    <tr>\n",
              "      <th>94</th>\n",
              "      <td>0.731211</td>\n",
              "      <td>1.000000</td>\n",
              "      <td>0.04</td>\n",
              "    </tr>\n",
              "    <tr>\n",
              "      <th>95</th>\n",
              "      <td>0.774530</td>\n",
              "      <td>1.000000</td>\n",
              "      <td>0.03</td>\n",
              "    </tr>\n",
              "    <tr>\n",
              "      <th>96</th>\n",
              "      <td>0.829854</td>\n",
              "      <td>1.000000</td>\n",
              "      <td>0.02</td>\n",
              "    </tr>\n",
              "    <tr>\n",
              "      <th>97</th>\n",
              "      <td>0.901879</td>\n",
              "      <td>1.000000</td>\n",
              "      <td>0.01</td>\n",
              "    </tr>\n",
              "    <tr>\n",
              "      <th>98</th>\n",
              "      <td>1.000000</td>\n",
              "      <td>1.000000</td>\n",
              "      <td>0.00</td>\n",
              "    </tr>\n",
              "  </tbody>\n",
              "</table>\n",
              "<p>99 rows × 3 columns</p>\n",
              "</div>"
            ],
            "text/plain": [
              "    FPR(Fall-out)  TPRate(Recall)  Threshold\n",
              "0        0.000000        0.000000       2.00\n",
              "1        0.000000        0.163189       1.00\n",
              "2        0.000000        0.283905       0.99\n",
              "3        0.000000        0.369598       0.98\n",
              "4        0.000000        0.431073       0.97\n",
              "..            ...             ...        ...\n",
              "94       0.731211        1.000000       0.04\n",
              "95       0.774530        1.000000       0.03\n",
              "96       0.829854        1.000000       0.02\n",
              "97       0.901879        1.000000       0.01\n",
              "98       1.000000        1.000000       0.00\n",
              "\n",
              "[99 rows x 3 columns]"
            ]
          },
          "metadata": {
            "tags": []
          },
          "execution_count": 46
        }
      ]
    },
    {
      "cell_type": "code",
      "metadata": {
        "colab": {
          "base_uri": "https://localhost:8080/"
        },
        "id": "BNsvTBTxtzmy",
        "outputId": "7c83a26b-5833-48d3-ca50-5242b1a8c4f8"
      },
      "source": [
        "# threshold 최대값의 인덱스, np.argmax()\r\n",
        "optimal_idx = np.argmax(tpr - fpr)\r\n",
        "optimal_threshold = thresholds[optimal_idx]\r\n",
        "\r\n",
        "print('idx:', optimal_idx, ', threshold:', optimal_threshold)"
      ],
      "execution_count": null,
      "outputs": [
        {
          "output_type": "stream",
          "text": [
            "idx: 44 , threshold: 0.56\n"
          ],
          "name": "stdout"
        }
      ]
    },
    {
      "cell_type": "code",
      "metadata": {
        "colab": {
          "base_uri": "https://localhost:8080/"
        },
        "id": "CbY25cAbt5kY",
        "outputId": "8028cdee-5b08-4cee-97bb-c3446b521a79"
      },
      "source": [
        "y_pred_optimal = y_pred_proba >= optimal_threshold\r\n",
        "print(classification_report(y_val, y_pred_optimal))"
      ],
      "execution_count": null,
      "outputs": [
        {
          "output_type": "stream",
          "text": [
            "              precision    recall  f1-score   support\n",
            "\n",
            "           0       0.98      0.98      0.98      1916\n",
            "           1       0.99      0.99      0.99      2684\n",
            "\n",
            "    accuracy                           0.98      4600\n",
            "   macro avg       0.98      0.98      0.98      4600\n",
            "weighted avg       0.98      0.98      0.98      4600\n",
            "\n"
          ],
          "name": "stdout"
        }
      ]
    },
    {
      "cell_type": "code",
      "metadata": {
        "colab": {
          "base_uri": "https://localhost:8080/"
        },
        "id": "kvesVuBYt9bs",
        "outputId": "a8e9fff3-580e-437f-a604-f955d4d31148"
      },
      "source": [
        "from sklearn.metrics import roc_auc_score\r\n",
        "auc_score = roc_auc_score(y_val, y_pred_proba)\r\n",
        "auc_score"
      ],
      "execution_count": null,
      "outputs": [
        {
          "output_type": "execute_result",
          "data": {
            "text/plain": [
              "0.9989745347827845"
            ]
          },
          "metadata": {
            "tags": []
          },
          "execution_count": 49
        }
      ]
    },
    {
      "cell_type": "markdown",
      "metadata": {
        "id": "wUyElrsRu7N9"
      },
      "source": [
        "# 방법2-1) 특성중요도 파악"
      ]
    },
    {
      "cell_type": "code",
      "metadata": {
        "colab": {
          "base_uri": "https://localhost:8080/",
          "height": 607
        },
        "id": "SsY9eWUpcZ6u",
        "outputId": "f8b6d2ba-c28c-4a80-9006-a202fee8eb98"
      },
      "source": [
        "# 경기결과에 영향을 미치는 가장 큰 요인은 홈에서의 득점\r\n",
        "\r\n",
        "import matplotlib.pyplot as plt\r\n",
        "\r\n",
        "# 특성 중요도()\r\n",
        "rf = pipe_random.named_steps['randomforestclassifier']\r\n",
        "importances = pd.Series(rf.feature_importances_, X_train.columns)\r\n",
        "\r\n",
        "n = 20\r\n",
        "plt.figure(figsize=(10,n/2))\r\n",
        "plt.title(f'Top {n} features ')\r\n",
        "importances.sort_values()[-n:].plot.barh();"
      ],
      "execution_count": null,
      "outputs": [
        {
          "output_type": "display_data",
          "data": {
            "image/png": "[encoded data removed]",
            "text/plain": [
              "<Figure size 720x720 with 1 Axes>"
            ]
          },
          "metadata": {
            "tags": [],
            "needs_background": "light"
          }
        }
      ]
    },
    {
      "cell_type": "markdown",
      "metadata": {
        "id": "f-rQYtXK7spt"
      },
      "source": [
        "# 문제점 발견\r\n",
        "\r\n",
        "### 독립변수와 종속변수와의 당연한 상관관계를 인지하지 못함\r\n",
        "### 당연히 득점이 높으면 (PTS_home , PTS_Away) 경기는 승리한다\r\n",
        "\r\n",
        "# 해결책\r\n",
        "\r\n",
        "### 특정 선수 또는 팀을 지정한 뒤 , 직전경기 스탯으로 다음경기 결과를 예측하는 방법으로 선회"
      ]
    },
    {
      "cell_type": "markdown",
      "metadata": {
        "id": "LQGyJoPP_S6s"
      },
      "source": [
        "\r\n",
        "\r\n",
        "---\r\n",
        "\r\n"
      ]
    },
    {
      "cell_type": "markdown",
      "metadata": {
        "id": "uQZBooRYLCVL"
      },
      "source": [
        "# 방법1) 선수 지정\r\n",
        "### 상대적으로 데이터가 많은 (선수생활을 오래한) 선수로 지정"
      ]
    },
    {
      "cell_type": "code",
      "metadata": {
        "id": "1lOH9pS7LJni",
        "colab": {
          "base_uri": "https://localhost:8080/",
          "height": 375
        },
        "outputId": "25f0c898-89db-42a6-bbf7-792ddabb126a"
      },
      "source": [
        "#df_details = pd.read_csv('/content/games_details.csv')"
      ],
      "execution_count": null,
      "outputs": [
        {
          "output_type": "error",
          "ename": "FileNotFoundError",
          "evalue": "ignored",
          "traceback": [
            "\u001b[0;31m---------------------------------------------------------------------------\u001b[0m",
            "\u001b[0;31mFileNotFoundError\u001b[0m                         Traceback (most recent call last)",
            "\u001b[0;32m<ipython-input-51-0d1cbc381321>\u001b[0m in \u001b[0;36m<module>\u001b[0;34m()\u001b[0m\n\u001b[0;32m----> 1\u001b[0;31m \u001b[0mdf_details\u001b[0m \u001b[0;34m=\u001b[0m \u001b[0mpd\u001b[0m\u001b[0;34m.\u001b[0m\u001b[0mread_csv\u001b[0m\u001b[0;34m(\u001b[0m\u001b[0;34m'/content/games_details.csv'\u001b[0m\u001b[0;34m)\u001b[0m\u001b[0;34m\u001b[0m\u001b[0;34m\u001b[0m\u001b[0m\n\u001b[0m",
            "\u001b[0;32m/usr/local/lib/python3.7/dist-packages/pandas/io/parsers.py\u001b[0m in \u001b[0;36mread_csv\u001b[0;34m(filepath_or_buffer, sep, delimiter, header, names, index_col, usecols, squeeze, prefix, mangle_dupe_cols, dtype, engine, converters, true_values, false_values, skipinitialspace, skiprows, skipfooter, nrows, na_values, keep_default_na, na_filter, verbose, skip_blank_lines, parse_dates, infer_datetime_format, keep_date_col, date_parser, dayfirst, cache_dates, iterator, chunksize, compression, thousands, decimal, lineterminator, quotechar, quoting, doublequote, escapechar, comment, encoding, dialect, error_bad_lines, warn_bad_lines, delim_whitespace, low_memory, memory_map, float_precision)\u001b[0m\n\u001b[1;32m    686\u001b[0m     )\n\u001b[1;32m    687\u001b[0m \u001b[0;34m\u001b[0m\u001b[0m\n\u001b[0;32m--> 688\u001b[0;31m     \u001b[0;32mreturn\u001b[0m \u001b[0m_read\u001b[0m\u001b[0;34m(\u001b[0m\u001b[0mfilepath_or_buffer\u001b[0m\u001b[0;34m,\u001b[0m \u001b[0mkwds\u001b[0m\u001b[0;34m)\u001b[0m\u001b[0;34m\u001b[0m\u001b[0;34m\u001b[0m\u001b[0m\n\u001b[0m\u001b[1;32m    689\u001b[0m \u001b[0;34m\u001b[0m\u001b[0m\n\u001b[1;32m    690\u001b[0m \u001b[0;34m\u001b[0m\u001b[0m\n",
            "\u001b[0;32m/usr/local/lib/python3.7/dist-packages/pandas/io/parsers.py\u001b[0m in \u001b[0;36m_read\u001b[0;34m(filepath_or_buffer, kwds)\u001b[0m\n\u001b[1;32m    452\u001b[0m \u001b[0;34m\u001b[0m\u001b[0m\n\u001b[1;32m    453\u001b[0m     \u001b[0;31m# Create the parser.\u001b[0m\u001b[0;34m\u001b[0m\u001b[0;34m\u001b[0m\u001b[0;34m\u001b[0m\u001b[0m\n\u001b[0;32m--> 454\u001b[0;31m     \u001b[0mparser\u001b[0m \u001b[0;34m=\u001b[0m \u001b[0mTextFileReader\u001b[0m\u001b[0;34m(\u001b[0m\u001b[0mfp_or_buf\u001b[0m\u001b[0;34m,\u001b[0m \u001b[0;34m**\u001b[0m\u001b[0mkwds\u001b[0m\u001b[0;34m)\u001b[0m\u001b[0;34m\u001b[0m\u001b[0;34m\u001b[0m\u001b[0m\n\u001b[0m\u001b[1;32m    455\u001b[0m \u001b[0;34m\u001b[0m\u001b[0m\n\u001b[1;32m    456\u001b[0m     \u001b[0;32mif\u001b[0m \u001b[0mchunksize\u001b[0m \u001b[0;32mor\u001b[0m \u001b[0miterator\u001b[0m\u001b[0;34m:\u001b[0m\u001b[0;34m\u001b[0m\u001b[0;34m\u001b[0m\u001b[0m\n",
            "\u001b[0;32m/usr/local/lib/python3.7/dist-packages/pandas/io/parsers.py\u001b[0m in \u001b[0;36m__init__\u001b[0;34m(self, f, engine, **kwds)\u001b[0m\n\u001b[1;32m    946\u001b[0m             \u001b[0mself\u001b[0m\u001b[0;34m.\u001b[0m\u001b[0moptions\u001b[0m\u001b[0;34m[\u001b[0m\u001b[0;34m\"has_index_names\"\u001b[0m\u001b[0;34m]\u001b[0m \u001b[0;34m=\u001b[0m \u001b[0mkwds\u001b[0m\u001b[0;34m[\u001b[0m\u001b[0;34m\"has_index_names\"\u001b[0m\u001b[0;34m]\u001b[0m\u001b[0;34m\u001b[0m\u001b[0;34m\u001b[0m\u001b[0m\n\u001b[1;32m    947\u001b[0m \u001b[0;34m\u001b[0m\u001b[0m\n\u001b[0;32m--> 948\u001b[0;31m         \u001b[0mself\u001b[0m\u001b[0;34m.\u001b[0m\u001b[0m_make_engine\u001b[0m\u001b[0;34m(\u001b[0m\u001b[0mself\u001b[0m\u001b[0;34m.\u001b[0m\u001b[0mengine\u001b[0m\u001b[0;34m)\u001b[0m\u001b[0;34m\u001b[0m\u001b[0;34m\u001b[0m\u001b[0m\n\u001b[0m\u001b[1;32m    949\u001b[0m \u001b[0;34m\u001b[0m\u001b[0m\n\u001b[1;32m    950\u001b[0m     \u001b[0;32mdef\u001b[0m \u001b[0mclose\u001b[0m\u001b[0;34m(\u001b[0m\u001b[0mself\u001b[0m\u001b[0;34m)\u001b[0m\u001b[0;34m:\u001b[0m\u001b[0;34m\u001b[0m\u001b[0;34m\u001b[0m\u001b[0m\n",
            "\u001b[0;32m/usr/local/lib/python3.7/dist-packages/pandas/io/parsers.py\u001b[0m in \u001b[0;36m_make_engine\u001b[0;34m(self, engine)\u001b[0m\n\u001b[1;32m   1178\u001b[0m     \u001b[0;32mdef\u001b[0m \u001b[0m_make_engine\u001b[0m\u001b[0;34m(\u001b[0m\u001b[0mself\u001b[0m\u001b[0;34m,\u001b[0m \u001b[0mengine\u001b[0m\u001b[0;34m=\u001b[0m\u001b[0;34m\"c\"\u001b[0m\u001b[0;34m)\u001b[0m\u001b[0;34m:\u001b[0m\u001b[0;34m\u001b[0m\u001b[0;34m\u001b[0m\u001b[0m\n\u001b[1;32m   1179\u001b[0m         \u001b[0;32mif\u001b[0m \u001b[0mengine\u001b[0m \u001b[0;34m==\u001b[0m \u001b[0;34m\"c\"\u001b[0m\u001b[0;34m:\u001b[0m\u001b[0;34m\u001b[0m\u001b[0;34m\u001b[0m\u001b[0m\n\u001b[0;32m-> 1180\u001b[0;31m             \u001b[0mself\u001b[0m\u001b[0;34m.\u001b[0m\u001b[0m_engine\u001b[0m \u001b[0;34m=\u001b[0m \u001b[0mCParserWrapper\u001b[0m\u001b[0;34m(\u001b[0m\u001b[0mself\u001b[0m\u001b[0;34m.\u001b[0m\u001b[0mf\u001b[0m\u001b[0;34m,\u001b[0m \u001b[0;34m**\u001b[0m\u001b[0mself\u001b[0m\u001b[0;34m.\u001b[0m\u001b[0moptions\u001b[0m\u001b[0;34m)\u001b[0m\u001b[0;34m\u001b[0m\u001b[0;34m\u001b[0m\u001b[0m\n\u001b[0m\u001b[1;32m   1181\u001b[0m         \u001b[0;32melse\u001b[0m\u001b[0;34m:\u001b[0m\u001b[0;34m\u001b[0m\u001b[0;34m\u001b[0m\u001b[0m\n\u001b[1;32m   1182\u001b[0m             \u001b[0;32mif\u001b[0m \u001b[0mengine\u001b[0m \u001b[0;34m==\u001b[0m \u001b[0;34m\"python\"\u001b[0m\u001b[0;34m:\u001b[0m\u001b[0;34m\u001b[0m\u001b[0;34m\u001b[0m\u001b[0m\n",
            "\u001b[0;32m/usr/local/lib/python3.7/dist-packages/pandas/io/parsers.py\u001b[0m in \u001b[0;36m__init__\u001b[0;34m(self, src, **kwds)\u001b[0m\n\u001b[1;32m   2008\u001b[0m         \u001b[0mkwds\u001b[0m\u001b[0;34m[\u001b[0m\u001b[0;34m\"usecols\"\u001b[0m\u001b[0;34m]\u001b[0m \u001b[0;34m=\u001b[0m \u001b[0mself\u001b[0m\u001b[0;34m.\u001b[0m\u001b[0musecols\u001b[0m\u001b[0;34m\u001b[0m\u001b[0;34m\u001b[0m\u001b[0m\n\u001b[1;32m   2009\u001b[0m \u001b[0;34m\u001b[0m\u001b[0m\n\u001b[0;32m-> 2010\u001b[0;31m         \u001b[0mself\u001b[0m\u001b[0;34m.\u001b[0m\u001b[0m_reader\u001b[0m \u001b[0;34m=\u001b[0m \u001b[0mparsers\u001b[0m\u001b[0;34m.\u001b[0m\u001b[0mTextReader\u001b[0m\u001b[0;34m(\u001b[0m\u001b[0msrc\u001b[0m\u001b[0;34m,\u001b[0m \u001b[0;34m**\u001b[0m\u001b[0mkwds\u001b[0m\u001b[0;34m)\u001b[0m\u001b[0;34m\u001b[0m\u001b[0;34m\u001b[0m\u001b[0m\n\u001b[0m\u001b[1;32m   2011\u001b[0m         \u001b[0mself\u001b[0m\u001b[0;34m.\u001b[0m\u001b[0munnamed_cols\u001b[0m \u001b[0;34m=\u001b[0m \u001b[0mself\u001b[0m\u001b[0;34m.\u001b[0m\u001b[0m_reader\u001b[0m\u001b[0;34m.\u001b[0m\u001b[0munnamed_cols\u001b[0m\u001b[0;34m\u001b[0m\u001b[0;34m\u001b[0m\u001b[0m\n\u001b[1;32m   2012\u001b[0m \u001b[0;34m\u001b[0m\u001b[0m\n",
            "\u001b[0;32mpandas/_libs/parsers.pyx\u001b[0m in \u001b[0;36mpandas._libs.parsers.TextReader.__cinit__\u001b[0;34m()\u001b[0m\n",
            "\u001b[0;32mpandas/_libs/parsers.pyx\u001b[0m in \u001b[0;36mpandas._libs.parsers.TextReader._setup_parser_source\u001b[0;34m()\u001b[0m\n",
            "\u001b[0;31mFileNotFoundError\u001b[0m: [Errno 2] No such file or directory: '/content/games_details.csv'"
          ]
        }
      ]
    },
    {
      "cell_type": "code",
      "metadata": {
        "id": "ETmhvfdBLLie"
      },
      "source": [
        "# 게임 데이터가 가장 많은 'lebron james'로 결정\r\n",
        "\r\n",
        "#df_details['PLAYER_NAME'].value_counts()"
      ],
      "execution_count": null,
      "outputs": []
    },
    {
      "cell_type": "code",
      "metadata": {
        "id": "ONg2D4FLLqsw"
      },
      "source": [
        "#df_details = df_details[df_details['PLAYER_NAME']=='LeBron James']"
      ],
      "execution_count": null,
      "outputs": []
    },
    {
      "cell_type": "code",
      "metadata": {
        "id": "jzn5UpOdLxDe"
      },
      "source": [
        "#df_details.info()"
      ],
      "execution_count": null,
      "outputs": []
    },
    {
      "cell_type": "code",
      "metadata": {
        "id": "32Q3irvXL6_H"
      },
      "source": [
        "#del df_details['COMMENT']"
      ],
      "execution_count": null,
      "outputs": []
    },
    {
      "cell_type": "code",
      "metadata": {
        "id": "DfkNRg2wL9ZS"
      },
      "source": [
        "#df_details = df_details.dropna()"
      ],
      "execution_count": null,
      "outputs": []
    },
    {
      "cell_type": "code",
      "metadata": {
        "id": "7czfXEOAMFSF"
      },
      "source": [
        "#df_details.head(10)"
      ],
      "execution_count": null,
      "outputs": []
    },
    {
      "cell_type": "code",
      "metadata": {
        "id": "yEmvetmMMQP6"
      },
      "source": [
        "#df_details= df_details[['GAME_ID', 'TEAM_ID', 'TEAM_ABBREVIATION','START_POSITION', 'FGM', 'FGA', 'FG3M', 'FG3A', 'FTM', 'FTA', 'OREB', 'DREB', 'AST','STL', 'BLK', 'TO', 'PF', 'PTS']]"
      ],
      "execution_count": null,
      "outputs": []
    },
    {
      "cell_type": "code",
      "metadata": {
        "id": "QxELu8dzMXDP"
      },
      "source": [
        "#df = pd.read_csv('/content/games.csv')"
      ],
      "execution_count": null,
      "outputs": []
    },
    {
      "cell_type": "code",
      "metadata": {
        "id": "B2h2ggrYMagc"
      },
      "source": [
        "#df= df[['GAME_DATE_EST', 'GAME_ID', 'HOME_TEAM_ID','VISITOR_TEAM_ID', 'HOME_TEAM_WINS']]"
      ],
      "execution_count": null,
      "outputs": []
    },
    {
      "cell_type": "code",
      "metadata": {
        "id": "WVYJOydBMyOo"
      },
      "source": [
        "#df_details.head(10)"
      ],
      "execution_count": null,
      "outputs": []
    },
    {
      "cell_type": "code",
      "metadata": {
        "id": "HCWiuhqBM3n2"
      },
      "source": [
        "#df_home = df[df['PLAYER_NAME']=='LeBron James']"
      ],
      "execution_count": null,
      "outputs": []
    },
    {
      "cell_type": "markdown",
      "metadata": {
        "id": "-AL0G1tWAUcH"
      },
      "source": [
        "# 방법2) 팀 지정\r\n",
        "### 통산 평균 전적이 50%였던 'SAC'(새크라멘토) 팀을 모델링기준으로 선정"
      ]
    },
    {
      "cell_type": "code",
      "metadata": {
        "id": "awZ7eiP2_cXV"
      },
      "source": [
        "df = pd.read_csv('/content/games.csv')"
      ],
      "execution_count": null,
      "outputs": []
    },
    {
      "cell_type": "code",
      "metadata": {
        "colab": {
          "base_uri": "https://localhost:8080/",
          "height": 224
        },
        "id": "nzbCBuAQBDVP",
        "outputId": "af905b77-07fc-4584-9eb5-c6b0104d372e"
      },
      "source": [
        "df.head()"
      ],
      "execution_count": null,
      "outputs": [
        {
          "output_type": "execute_result",
          "data": {
            "text/html": [
              "<div>\n",
              "<style scoped>\n",
              "    .dataframe tbody tr th:only-of-type {\n",
              "        vertical-align: middle;\n",
              "    }\n",
              "\n",
              "    .dataframe tbody tr th {\n",
              "        vertical-align: top;\n",
              "    }\n",
              "\n",
              "    .dataframe thead th {\n",
              "        text-align: right;\n",
              "    }\n",
              "</style>\n",
              "<table border=\"1\" class=\"dataframe\">\n",
              "  <thead>\n",
              "    <tr style=\"text-align: right;\">\n",
              "      <th></th>\n",
              "      <th>GAME_DATE_EST</th>\n",
              "      <th>GAME_ID</th>\n",
              "      <th>GAME_STATUS_TEXT</th>\n",
              "      <th>HOME_TEAM_ID</th>\n",
              "      <th>VISITOR_TEAM_ID</th>\n",
              "      <th>SEASON</th>\n",
              "      <th>TEAM_ID_home</th>\n",
              "      <th>PTS_home</th>\n",
              "      <th>FG_PCT_home</th>\n",
              "      <th>FT_PCT_home</th>\n",
              "      <th>FG3_PCT_home</th>\n",
              "      <th>AST_home</th>\n",
              "      <th>REB_home</th>\n",
              "      <th>TEAM_ID_away</th>\n",
              "      <th>PTS_away</th>\n",
              "      <th>FG_PCT_away</th>\n",
              "      <th>FT_PCT_away</th>\n",
              "      <th>FG3_PCT_away</th>\n",
              "      <th>AST_away</th>\n",
              "      <th>REB_away</th>\n",
              "      <th>HOME_TEAM_WINS</th>\n",
              "    </tr>\n",
              "  </thead>\n",
              "  <tbody>\n",
              "    <tr>\n",
              "      <th>0</th>\n",
              "      <td>2020-12-19</td>\n",
              "      <td>12000047</td>\n",
              "      <td>Final</td>\n",
              "      <td>1610612753</td>\n",
              "      <td>1610612766</td>\n",
              "      <td>2020</td>\n",
              "      <td>1610612753</td>\n",
              "      <td>120.0</td>\n",
              "      <td>0.433</td>\n",
              "      <td>0.792</td>\n",
              "      <td>0.425</td>\n",
              "      <td>23.0</td>\n",
              "      <td>50.0</td>\n",
              "      <td>1610612766</td>\n",
              "      <td>117.0</td>\n",
              "      <td>0.444</td>\n",
              "      <td>0.864</td>\n",
              "      <td>0.439</td>\n",
              "      <td>21.0</td>\n",
              "      <td>52.0</td>\n",
              "      <td>1</td>\n",
              "    </tr>\n",
              "    <tr>\n",
              "      <th>1</th>\n",
              "      <td>2020-12-19</td>\n",
              "      <td>12000048</td>\n",
              "      <td>Final</td>\n",
              "      <td>1610612764</td>\n",
              "      <td>1610612765</td>\n",
              "      <td>2020</td>\n",
              "      <td>1610612764</td>\n",
              "      <td>99.0</td>\n",
              "      <td>0.427</td>\n",
              "      <td>0.625</td>\n",
              "      <td>0.295</td>\n",
              "      <td>24.0</td>\n",
              "      <td>45.0</td>\n",
              "      <td>1610612765</td>\n",
              "      <td>96.0</td>\n",
              "      <td>0.402</td>\n",
              "      <td>0.647</td>\n",
              "      <td>0.326</td>\n",
              "      <td>18.0</td>\n",
              "      <td>51.0</td>\n",
              "      <td>1</td>\n",
              "    </tr>\n",
              "    <tr>\n",
              "      <th>2</th>\n",
              "      <td>2020-12-19</td>\n",
              "      <td>12000049</td>\n",
              "      <td>Final</td>\n",
              "      <td>1610612763</td>\n",
              "      <td>1610612737</td>\n",
              "      <td>2020</td>\n",
              "      <td>1610612763</td>\n",
              "      <td>116.0</td>\n",
              "      <td>0.400</td>\n",
              "      <td>0.744</td>\n",
              "      <td>0.396</td>\n",
              "      <td>21.0</td>\n",
              "      <td>43.0</td>\n",
              "      <td>1610612737</td>\n",
              "      <td>117.0</td>\n",
              "      <td>0.422</td>\n",
              "      <td>0.837</td>\n",
              "      <td>0.297</td>\n",
              "      <td>24.0</td>\n",
              "      <td>47.0</td>\n",
              "      <td>0</td>\n",
              "    </tr>\n",
              "    <tr>\n",
              "      <th>3</th>\n",
              "      <td>2020-12-18</td>\n",
              "      <td>12000039</td>\n",
              "      <td>Final</td>\n",
              "      <td>1610612754</td>\n",
              "      <td>1610612755</td>\n",
              "      <td>2020</td>\n",
              "      <td>1610612754</td>\n",
              "      <td>107.0</td>\n",
              "      <td>0.371</td>\n",
              "      <td>0.692</td>\n",
              "      <td>0.262</td>\n",
              "      <td>19.0</td>\n",
              "      <td>45.0</td>\n",
              "      <td>1610612755</td>\n",
              "      <td>113.0</td>\n",
              "      <td>0.533</td>\n",
              "      <td>0.629</td>\n",
              "      <td>0.355</td>\n",
              "      <td>23.0</td>\n",
              "      <td>48.0</td>\n",
              "      <td>0</td>\n",
              "    </tr>\n",
              "    <tr>\n",
              "      <th>4</th>\n",
              "      <td>2020-12-18</td>\n",
              "      <td>12000040</td>\n",
              "      <td>Final</td>\n",
              "      <td>1610612761</td>\n",
              "      <td>1610612748</td>\n",
              "      <td>2020</td>\n",
              "      <td>1610612761</td>\n",
              "      <td>105.0</td>\n",
              "      <td>0.380</td>\n",
              "      <td>0.737</td>\n",
              "      <td>0.356</td>\n",
              "      <td>27.0</td>\n",
              "      <td>37.0</td>\n",
              "      <td>1610612748</td>\n",
              "      <td>117.0</td>\n",
              "      <td>0.534</td>\n",
              "      <td>0.741</td>\n",
              "      <td>0.514</td>\n",
              "      <td>30.0</td>\n",
              "      <td>51.0</td>\n",
              "      <td>0</td>\n",
              "    </tr>\n",
              "  </tbody>\n",
              "</table>\n",
              "</div>"
            ],
            "text/plain": [
              "  GAME_DATE_EST   GAME_ID GAME_STATUS_TEXT  ...  AST_away  REB_away  HOME_TEAM_WINS\n",
              "0    2020-12-19  12000047            Final  ...      21.0      52.0               1\n",
              "1    2020-12-19  12000048            Final  ...      18.0      51.0               1\n",
              "2    2020-12-19  12000049            Final  ...      24.0      47.0               0\n",
              "3    2020-12-18  12000039            Final  ...      23.0      48.0               0\n",
              "4    2020-12-18  12000040            Final  ...      30.0      51.0               0\n",
              "\n",
              "[5 rows x 21 columns]"
            ]
          },
          "metadata": {
            "tags": []
          },
          "execution_count": 53
        }
      ]
    },
    {
      "cell_type": "code",
      "metadata": {
        "id": "JeHYQIo8BOC3"
      },
      "source": [
        "# 담당팀 SAC , TEAM ID : 1610612758 값만 추출\r\n",
        "\r\n",
        "df = df[df['HOME_TEAM_ID']==1610612758]"
      ],
      "execution_count": null,
      "outputs": []
    },
    {
      "cell_type": "code",
      "metadata": {
        "id": "VFLcBL_G_4lQ"
      },
      "source": [
        "# 시간순으로 배정\r\n",
        "\r\n",
        "df['GAME_DATE_EST'] =pd.to_datetime(df.GAME_DATE_EST)"
      ],
      "execution_count": null,
      "outputs": []
    },
    {
      "cell_type": "code",
      "metadata": {
        "id": "LiMMb4GTRv77"
      },
      "source": [
        "df = df.sort_values(by='GAME_DATE_EST')"
      ],
      "execution_count": null,
      "outputs": []
    },
    {
      "cell_type": "code",
      "metadata": {
        "id": "QYzuVSHiAB3q"
      },
      "source": [
        "df = df.reset_index()"
      ],
      "execution_count": null,
      "outputs": []
    },
    {
      "cell_type": "code",
      "metadata": {
        "id": "guW9_ENTAJVL"
      },
      "source": [
        "del df['index']"
      ],
      "execution_count": null,
      "outputs": []
    },
    {
      "cell_type": "code",
      "metadata": {
        "id": "DwDruCLzR2X2"
      },
      "source": [
        "df = df.dropna()"
      ],
      "execution_count": null,
      "outputs": []
    },
    {
      "cell_type": "code",
      "metadata": {
        "colab": {
          "base_uri": "https://localhost:8080/",
          "height": 224
        },
        "id": "ungq1tO3RmBR",
        "outputId": "c8234a39-72f6-49fb-ff92-31aef219bc8f"
      },
      "source": [
        "df.head()"
      ],
      "execution_count": null,
      "outputs": [
        {
          "output_type": "execute_result",
          "data": {
            "text/html": [
              "<div>\n",
              "<style scoped>\n",
              "    .dataframe tbody tr th:only-of-type {\n",
              "        vertical-align: middle;\n",
              "    }\n",
              "\n",
              "    .dataframe tbody tr th {\n",
              "        vertical-align: top;\n",
              "    }\n",
              "\n",
              "    .dataframe thead th {\n",
              "        text-align: right;\n",
              "    }\n",
              "</style>\n",
              "<table border=\"1\" class=\"dataframe\">\n",
              "  <thead>\n",
              "    <tr style=\"text-align: right;\">\n",
              "      <th></th>\n",
              "      <th>GAME_DATE_EST</th>\n",
              "      <th>GAME_ID</th>\n",
              "      <th>GAME_STATUS_TEXT</th>\n",
              "      <th>HOME_TEAM_ID</th>\n",
              "      <th>VISITOR_TEAM_ID</th>\n",
              "      <th>SEASON</th>\n",
              "      <th>TEAM_ID_home</th>\n",
              "      <th>PTS_home</th>\n",
              "      <th>FG_PCT_home</th>\n",
              "      <th>FT_PCT_home</th>\n",
              "      <th>FG3_PCT_home</th>\n",
              "      <th>AST_home</th>\n",
              "      <th>REB_home</th>\n",
              "      <th>TEAM_ID_away</th>\n",
              "      <th>PTS_away</th>\n",
              "      <th>FG_PCT_away</th>\n",
              "      <th>FT_PCT_away</th>\n",
              "      <th>FG3_PCT_away</th>\n",
              "      <th>AST_away</th>\n",
              "      <th>REB_away</th>\n",
              "      <th>HOME_TEAM_WINS</th>\n",
              "    </tr>\n",
              "  </thead>\n",
              "  <tbody>\n",
              "    <tr>\n",
              "      <th>0</th>\n",
              "      <td>2003-10-07</td>\n",
              "      <td>10300009</td>\n",
              "      <td>Final</td>\n",
              "      <td>1610612758</td>\n",
              "      <td>1610612746</td>\n",
              "      <td>2003</td>\n",
              "      <td>1610612758</td>\n",
              "      <td>101.0</td>\n",
              "      <td>0.467</td>\n",
              "      <td>0.871</td>\n",
              "      <td>0.444</td>\n",
              "      <td>19.0</td>\n",
              "      <td>39.0</td>\n",
              "      <td>1610612746</td>\n",
              "      <td>82.0</td>\n",
              "      <td>0.368</td>\n",
              "      <td>0.609</td>\n",
              "      <td>0.364</td>\n",
              "      <td>13.0</td>\n",
              "      <td>50.0</td>\n",
              "      <td>1</td>\n",
              "    </tr>\n",
              "    <tr>\n",
              "      <th>4</th>\n",
              "      <td>2003-10-29</td>\n",
              "      <td>20300014</td>\n",
              "      <td>Final</td>\n",
              "      <td>1610612758</td>\n",
              "      <td>1610612739</td>\n",
              "      <td>2003</td>\n",
              "      <td>1610612758</td>\n",
              "      <td>106.0</td>\n",
              "      <td>0.506</td>\n",
              "      <td>0.800</td>\n",
              "      <td>0.222</td>\n",
              "      <td>27.0</td>\n",
              "      <td>41.0</td>\n",
              "      <td>1610612739</td>\n",
              "      <td>92.0</td>\n",
              "      <td>0.465</td>\n",
              "      <td>0.667</td>\n",
              "      <td>0.545</td>\n",
              "      <td>24.0</td>\n",
              "      <td>39.0</td>\n",
              "      <td>1</td>\n",
              "    </tr>\n",
              "    <tr>\n",
              "      <th>5</th>\n",
              "      <td>2003-10-31</td>\n",
              "      <td>20300026</td>\n",
              "      <td>Final</td>\n",
              "      <td>1610612758</td>\n",
              "      <td>1610612755</td>\n",
              "      <td>2003</td>\n",
              "      <td>1610612758</td>\n",
              "      <td>100.0</td>\n",
              "      <td>0.514</td>\n",
              "      <td>0.783</td>\n",
              "      <td>0.545</td>\n",
              "      <td>26.0</td>\n",
              "      <td>33.0</td>\n",
              "      <td>1610612755</td>\n",
              "      <td>89.0</td>\n",
              "      <td>0.418</td>\n",
              "      <td>0.767</td>\n",
              "      <td>0.000</td>\n",
              "      <td>16.0</td>\n",
              "      <td>40.0</td>\n",
              "      <td>1</td>\n",
              "    </tr>\n",
              "    <tr>\n",
              "      <th>6</th>\n",
              "      <td>2003-11-11</td>\n",
              "      <td>20300100</td>\n",
              "      <td>Final</td>\n",
              "      <td>1610612758</td>\n",
              "      <td>1610612765</td>\n",
              "      <td>2003</td>\n",
              "      <td>1610612758</td>\n",
              "      <td>97.0</td>\n",
              "      <td>0.481</td>\n",
              "      <td>0.680</td>\n",
              "      <td>0.308</td>\n",
              "      <td>29.0</td>\n",
              "      <td>46.0</td>\n",
              "      <td>1610612765</td>\n",
              "      <td>91.0</td>\n",
              "      <td>0.397</td>\n",
              "      <td>0.771</td>\n",
              "      <td>0.286</td>\n",
              "      <td>9.0</td>\n",
              "      <td>47.0</td>\n",
              "      <td>1</td>\n",
              "    </tr>\n",
              "    <tr>\n",
              "      <th>7</th>\n",
              "      <td>2003-11-14</td>\n",
              "      <td>20300122</td>\n",
              "      <td>Final</td>\n",
              "      <td>1610612758</td>\n",
              "      <td>1610612761</td>\n",
              "      <td>2003</td>\n",
              "      <td>1610612758</td>\n",
              "      <td>94.0</td>\n",
              "      <td>0.500</td>\n",
              "      <td>0.929</td>\n",
              "      <td>0.385</td>\n",
              "      <td>29.0</td>\n",
              "      <td>48.0</td>\n",
              "      <td>1610612761</td>\n",
              "      <td>64.0</td>\n",
              "      <td>0.338</td>\n",
              "      <td>0.778</td>\n",
              "      <td>0.250</td>\n",
              "      <td>10.0</td>\n",
              "      <td>34.0</td>\n",
              "      <td>1</td>\n",
              "    </tr>\n",
              "  </tbody>\n",
              "</table>\n",
              "</div>"
            ],
            "text/plain": [
              "  GAME_DATE_EST   GAME_ID GAME_STATUS_TEXT  ...  AST_away  REB_away  HOME_TEAM_WINS\n",
              "0    2003-10-07  10300009            Final  ...      13.0      50.0               1\n",
              "4    2003-10-29  20300014            Final  ...      24.0      39.0               1\n",
              "5    2003-10-31  20300026            Final  ...      16.0      40.0               1\n",
              "6    2003-11-11  20300100            Final  ...       9.0      47.0               1\n",
              "7    2003-11-14  20300122            Final  ...      10.0      34.0               1\n",
              "\n",
              "[5 rows x 21 columns]"
            ]
          },
          "metadata": {
            "tags": []
          },
          "execution_count": 60
        }
      ]
    },
    {
      "cell_type": "code",
      "metadata": {
        "id": "qy66nkYAVOt7"
      },
      "source": [
        "# 전 경기 스탯으로 다음 경기의 결과를 예측해야하므로\r\n",
        "# 타겟값인 'HOME_TEAM_WINS'을 1행씩 내려서 모델링"
      ],
      "execution_count": null,
      "outputs": []
    },
    {
      "cell_type": "code",
      "metadata": {
        "id": "x1_-bzS6WAaV"
      },
      "source": [
        "df['PREDICT'] = df.sort_values(by='GAME_DATE_EST', ascending=False).groupby('HOME_TEAM_ID')['HOME_TEAM_WINS'].shift(1)"
      ],
      "execution_count": null,
      "outputs": []
    },
    {
      "cell_type": "code",
      "metadata": {
        "colab": {
          "base_uri": "https://localhost:8080/",
          "height": 224
        },
        "id": "OIgdc7UsWllV",
        "outputId": "3815d364-758e-45e4-c439-5f832b7ac11c"
      },
      "source": [
        "df.head()"
      ],
      "execution_count": null,
      "outputs": [
        {
          "output_type": "execute_result",
          "data": {
            "text/html": [
              "<div>\n",
              "<style scoped>\n",
              "    .dataframe tbody tr th:only-of-type {\n",
              "        vertical-align: middle;\n",
              "    }\n",
              "\n",
              "    .dataframe tbody tr th {\n",
              "        vertical-align: top;\n",
              "    }\n",
              "\n",
              "    .dataframe thead th {\n",
              "        text-align: right;\n",
              "    }\n",
              "</style>\n",
              "<table border=\"1\" class=\"dataframe\">\n",
              "  <thead>\n",
              "    <tr style=\"text-align: right;\">\n",
              "      <th></th>\n",
              "      <th>GAME_DATE_EST</th>\n",
              "      <th>GAME_ID</th>\n",
              "      <th>GAME_STATUS_TEXT</th>\n",
              "      <th>HOME_TEAM_ID</th>\n",
              "      <th>VISITOR_TEAM_ID</th>\n",
              "      <th>SEASON</th>\n",
              "      <th>TEAM_ID_home</th>\n",
              "      <th>PTS_home</th>\n",
              "      <th>FG_PCT_home</th>\n",
              "      <th>FT_PCT_home</th>\n",
              "      <th>FG3_PCT_home</th>\n",
              "      <th>AST_home</th>\n",
              "      <th>REB_home</th>\n",
              "      <th>TEAM_ID_away</th>\n",
              "      <th>PTS_away</th>\n",
              "      <th>FG_PCT_away</th>\n",
              "      <th>FT_PCT_away</th>\n",
              "      <th>FG3_PCT_away</th>\n",
              "      <th>AST_away</th>\n",
              "      <th>REB_away</th>\n",
              "      <th>HOME_TEAM_WINS</th>\n",
              "      <th>PREDICT</th>\n",
              "    </tr>\n",
              "  </thead>\n",
              "  <tbody>\n",
              "    <tr>\n",
              "      <th>0</th>\n",
              "      <td>2003-10-07</td>\n",
              "      <td>10300009</td>\n",
              "      <td>Final</td>\n",
              "      <td>1610612758</td>\n",
              "      <td>1610612746</td>\n",
              "      <td>2003</td>\n",
              "      <td>1610612758</td>\n",
              "      <td>101.0</td>\n",
              "      <td>0.467</td>\n",
              "      <td>0.871</td>\n",
              "      <td>0.444</td>\n",
              "      <td>19.0</td>\n",
              "      <td>39.0</td>\n",
              "      <td>1610612746</td>\n",
              "      <td>82.0</td>\n",
              "      <td>0.368</td>\n",
              "      <td>0.609</td>\n",
              "      <td>0.364</td>\n",
              "      <td>13.0</td>\n",
              "      <td>50.0</td>\n",
              "      <td>1</td>\n",
              "      <td>1.0</td>\n",
              "    </tr>\n",
              "    <tr>\n",
              "      <th>4</th>\n",
              "      <td>2003-10-29</td>\n",
              "      <td>20300014</td>\n",
              "      <td>Final</td>\n",
              "      <td>1610612758</td>\n",
              "      <td>1610612739</td>\n",
              "      <td>2003</td>\n",
              "      <td>1610612758</td>\n",
              "      <td>106.0</td>\n",
              "      <td>0.506</td>\n",
              "      <td>0.800</td>\n",
              "      <td>0.222</td>\n",
              "      <td>27.0</td>\n",
              "      <td>41.0</td>\n",
              "      <td>1610612739</td>\n",
              "      <td>92.0</td>\n",
              "      <td>0.465</td>\n",
              "      <td>0.667</td>\n",
              "      <td>0.545</td>\n",
              "      <td>24.0</td>\n",
              "      <td>39.0</td>\n",
              "      <td>1</td>\n",
              "      <td>1.0</td>\n",
              "    </tr>\n",
              "    <tr>\n",
              "      <th>5</th>\n",
              "      <td>2003-10-31</td>\n",
              "      <td>20300026</td>\n",
              "      <td>Final</td>\n",
              "      <td>1610612758</td>\n",
              "      <td>1610612755</td>\n",
              "      <td>2003</td>\n",
              "      <td>1610612758</td>\n",
              "      <td>100.0</td>\n",
              "      <td>0.514</td>\n",
              "      <td>0.783</td>\n",
              "      <td>0.545</td>\n",
              "      <td>26.0</td>\n",
              "      <td>33.0</td>\n",
              "      <td>1610612755</td>\n",
              "      <td>89.0</td>\n",
              "      <td>0.418</td>\n",
              "      <td>0.767</td>\n",
              "      <td>0.000</td>\n",
              "      <td>16.0</td>\n",
              "      <td>40.0</td>\n",
              "      <td>1</td>\n",
              "      <td>1.0</td>\n",
              "    </tr>\n",
              "    <tr>\n",
              "      <th>6</th>\n",
              "      <td>2003-11-11</td>\n",
              "      <td>20300100</td>\n",
              "      <td>Final</td>\n",
              "      <td>1610612758</td>\n",
              "      <td>1610612765</td>\n",
              "      <td>2003</td>\n",
              "      <td>1610612758</td>\n",
              "      <td>97.0</td>\n",
              "      <td>0.481</td>\n",
              "      <td>0.680</td>\n",
              "      <td>0.308</td>\n",
              "      <td>29.0</td>\n",
              "      <td>46.0</td>\n",
              "      <td>1610612765</td>\n",
              "      <td>91.0</td>\n",
              "      <td>0.397</td>\n",
              "      <td>0.771</td>\n",
              "      <td>0.286</td>\n",
              "      <td>9.0</td>\n",
              "      <td>47.0</td>\n",
              "      <td>1</td>\n",
              "      <td>1.0</td>\n",
              "    </tr>\n",
              "    <tr>\n",
              "      <th>7</th>\n",
              "      <td>2003-11-14</td>\n",
              "      <td>20300122</td>\n",
              "      <td>Final</td>\n",
              "      <td>1610612758</td>\n",
              "      <td>1610612761</td>\n",
              "      <td>2003</td>\n",
              "      <td>1610612758</td>\n",
              "      <td>94.0</td>\n",
              "      <td>0.500</td>\n",
              "      <td>0.929</td>\n",
              "      <td>0.385</td>\n",
              "      <td>29.0</td>\n",
              "      <td>48.0</td>\n",
              "      <td>1610612761</td>\n",
              "      <td>64.0</td>\n",
              "      <td>0.338</td>\n",
              "      <td>0.778</td>\n",
              "      <td>0.250</td>\n",
              "      <td>10.0</td>\n",
              "      <td>34.0</td>\n",
              "      <td>1</td>\n",
              "      <td>1.0</td>\n",
              "    </tr>\n",
              "  </tbody>\n",
              "</table>\n",
              "</div>"
            ],
            "text/plain": [
              "  GAME_DATE_EST   GAME_ID GAME_STATUS_TEXT  ...  REB_away  HOME_TEAM_WINS  PREDICT\n",
              "0    2003-10-07  10300009            Final  ...      50.0               1      1.0\n",
              "4    2003-10-29  20300014            Final  ...      39.0               1      1.0\n",
              "5    2003-10-31  20300026            Final  ...      40.0               1      1.0\n",
              "6    2003-11-11  20300100            Final  ...      47.0               1      1.0\n",
              "7    2003-11-14  20300122            Final  ...      34.0               1      1.0\n",
              "\n",
              "[5 rows x 22 columns]"
            ]
          },
          "metadata": {
            "tags": []
          },
          "execution_count": 63
        }
      ]
    },
    {
      "cell_type": "code",
      "metadata": {
        "colab": {
          "base_uri": "https://localhost:8080/"
        },
        "id": "WUJ1k7MZAMlN",
        "outputId": "1fd74755-dca1-4a5b-c36a-4b647957446a"
      },
      "source": [
        "df.columns"
      ],
      "execution_count": null,
      "outputs": [
        {
          "output_type": "execute_result",
          "data": {
            "text/plain": [
              "Index(['GAME_DATE_EST', 'GAME_ID', 'GAME_STATUS_TEXT', 'HOME_TEAM_ID',\n",
              "       'VISITOR_TEAM_ID', 'SEASON', 'TEAM_ID_home', 'PTS_home', 'FG_PCT_home',\n",
              "       'FT_PCT_home', 'FG3_PCT_home', 'AST_home', 'REB_home', 'TEAM_ID_away',\n",
              "       'PTS_away', 'FG_PCT_away', 'FT_PCT_away', 'FG3_PCT_away', 'AST_away',\n",
              "       'REB_away', 'HOME_TEAM_WINS', 'PREDICT'],\n",
              "      dtype='object')"
            ]
          },
          "metadata": {
            "tags": []
          },
          "execution_count": 64
        }
      ]
    },
    {
      "cell_type": "code",
      "metadata": {
        "id": "jvrBZslvAO4E"
      },
      "source": [
        "df= df[['GAME_DATE_EST','VISITOR_TEAM_ID', 'SEASON', 'PTS_home', 'FG_PCT_home',\r\n",
        "       'FT_PCT_home', 'FG3_PCT_home', 'AST_home', 'REB_home', 'TEAM_ID_away',\r\n",
        "       'PTS_away', 'FG_PCT_away', 'FT_PCT_away', 'FG3_PCT_away', 'AST_away',\r\n",
        "       'REB_away','PREDICT']]"
      ],
      "execution_count": null,
      "outputs": []
    },
    {
      "cell_type": "code",
      "metadata": {
        "id": "KkXHObDoXEwj"
      },
      "source": [
        "# AWAY ID 숫자를 약어로 변경\r\n",
        "for i in range(0,30):\r\n",
        "    df = df.replace(df_team['TEAM_ID'][i],df_team['ABBREVIATION'][i])"
      ],
      "execution_count": null,
      "outputs": []
    },
    {
      "cell_type": "code",
      "metadata": {
        "colab": {
          "base_uri": "https://localhost:8080/",
          "height": 224
        },
        "id": "FYXEqOjZXN3j",
        "outputId": "27c60240-c023-41e1-da56-eb15c1a4b2e5"
      },
      "source": [
        "df.head()"
      ],
      "execution_count": null,
      "outputs": [
        {
          "output_type": "execute_result",
          "data": {
            "text/html": [
              "<div>\n",
              "<style scoped>\n",
              "    .dataframe tbody tr th:only-of-type {\n",
              "        vertical-align: middle;\n",
              "    }\n",
              "\n",
              "    .dataframe tbody tr th {\n",
              "        vertical-align: top;\n",
              "    }\n",
              "\n",
              "    .dataframe thead th {\n",
              "        text-align: right;\n",
              "    }\n",
              "</style>\n",
              "<table border=\"1\" class=\"dataframe\">\n",
              "  <thead>\n",
              "    <tr style=\"text-align: right;\">\n",
              "      <th></th>\n",
              "      <th>GAME_DATE_EST</th>\n",
              "      <th>VISITOR_TEAM_ID</th>\n",
              "      <th>SEASON</th>\n",
              "      <th>PTS_home</th>\n",
              "      <th>FG_PCT_home</th>\n",
              "      <th>FT_PCT_home</th>\n",
              "      <th>FG3_PCT_home</th>\n",
              "      <th>AST_home</th>\n",
              "      <th>REB_home</th>\n",
              "      <th>TEAM_ID_away</th>\n",
              "      <th>PTS_away</th>\n",
              "      <th>FG_PCT_away</th>\n",
              "      <th>FT_PCT_away</th>\n",
              "      <th>FG3_PCT_away</th>\n",
              "      <th>AST_away</th>\n",
              "      <th>REB_away</th>\n",
              "      <th>PREDICT</th>\n",
              "    </tr>\n",
              "  </thead>\n",
              "  <tbody>\n",
              "    <tr>\n",
              "      <th>0</th>\n",
              "      <td>2003-10-07</td>\n",
              "      <td>LAC</td>\n",
              "      <td>2003</td>\n",
              "      <td>101.0</td>\n",
              "      <td>0.467</td>\n",
              "      <td>0.871</td>\n",
              "      <td>0.444</td>\n",
              "      <td>19.0</td>\n",
              "      <td>39.0</td>\n",
              "      <td>LAC</td>\n",
              "      <td>82.0</td>\n",
              "      <td>0.368</td>\n",
              "      <td>0.609</td>\n",
              "      <td>0.364</td>\n",
              "      <td>13.0</td>\n",
              "      <td>50.0</td>\n",
              "      <td>1.0</td>\n",
              "    </tr>\n",
              "    <tr>\n",
              "      <th>4</th>\n",
              "      <td>2003-10-29</td>\n",
              "      <td>CLE</td>\n",
              "      <td>2003</td>\n",
              "      <td>106.0</td>\n",
              "      <td>0.506</td>\n",
              "      <td>0.800</td>\n",
              "      <td>0.222</td>\n",
              "      <td>27.0</td>\n",
              "      <td>41.0</td>\n",
              "      <td>CLE</td>\n",
              "      <td>92.0</td>\n",
              "      <td>0.465</td>\n",
              "      <td>0.667</td>\n",
              "      <td>0.545</td>\n",
              "      <td>24.0</td>\n",
              "      <td>39.0</td>\n",
              "      <td>1.0</td>\n",
              "    </tr>\n",
              "    <tr>\n",
              "      <th>5</th>\n",
              "      <td>2003-10-31</td>\n",
              "      <td>PHI</td>\n",
              "      <td>2003</td>\n",
              "      <td>100.0</td>\n",
              "      <td>0.514</td>\n",
              "      <td>0.783</td>\n",
              "      <td>0.545</td>\n",
              "      <td>26.0</td>\n",
              "      <td>33.0</td>\n",
              "      <td>PHI</td>\n",
              "      <td>89.0</td>\n",
              "      <td>0.418</td>\n",
              "      <td>0.767</td>\n",
              "      <td>0.000</td>\n",
              "      <td>16.0</td>\n",
              "      <td>40.0</td>\n",
              "      <td>1.0</td>\n",
              "    </tr>\n",
              "    <tr>\n",
              "      <th>6</th>\n",
              "      <td>2003-11-11</td>\n",
              "      <td>DET</td>\n",
              "      <td>2003</td>\n",
              "      <td>97.0</td>\n",
              "      <td>0.481</td>\n",
              "      <td>0.680</td>\n",
              "      <td>0.308</td>\n",
              "      <td>29.0</td>\n",
              "      <td>46.0</td>\n",
              "      <td>DET</td>\n",
              "      <td>91.0</td>\n",
              "      <td>0.397</td>\n",
              "      <td>0.771</td>\n",
              "      <td>0.286</td>\n",
              "      <td>9.0</td>\n",
              "      <td>47.0</td>\n",
              "      <td>1.0</td>\n",
              "    </tr>\n",
              "    <tr>\n",
              "      <th>7</th>\n",
              "      <td>2003-11-14</td>\n",
              "      <td>TOR</td>\n",
              "      <td>2003</td>\n",
              "      <td>94.0</td>\n",
              "      <td>0.500</td>\n",
              "      <td>0.929</td>\n",
              "      <td>0.385</td>\n",
              "      <td>29.0</td>\n",
              "      <td>48.0</td>\n",
              "      <td>TOR</td>\n",
              "      <td>64.0</td>\n",
              "      <td>0.338</td>\n",
              "      <td>0.778</td>\n",
              "      <td>0.250</td>\n",
              "      <td>10.0</td>\n",
              "      <td>34.0</td>\n",
              "      <td>1.0</td>\n",
              "    </tr>\n",
              "  </tbody>\n",
              "</table>\n",
              "</div>"
            ],
            "text/plain": [
              "  GAME_DATE_EST VISITOR_TEAM_ID  SEASON  ...  AST_away  REB_away  PREDICT\n",
              "0    2003-10-07             LAC    2003  ...      13.0      50.0      1.0\n",
              "4    2003-10-29             CLE    2003  ...      24.0      39.0      1.0\n",
              "5    2003-10-31             PHI    2003  ...      16.0      40.0      1.0\n",
              "6    2003-11-11             DET    2003  ...       9.0      47.0      1.0\n",
              "7    2003-11-14             TOR    2003  ...      10.0      34.0      1.0\n",
              "\n",
              "[5 rows x 17 columns]"
            ]
          },
          "metadata": {
            "tags": []
          },
          "execution_count": 67
        }
      ]
    },
    {
      "cell_type": "code",
      "metadata": {
        "colab": {
          "base_uri": "https://localhost:8080/"
        },
        "id": "BvCRGcNeYma-",
        "outputId": "71b8d89a-f9c5-4b5e-dced-cb08017da2f7"
      },
      "source": [
        "df = pd.read_csv('/content/games.csv')\r\n",
        "df1 = df[df['HOME_TEAM_ID']==1610612758]\r\n",
        "df1['GAME_DATE_EST'] =pd.to_datetime(df1.GAME_DATE_EST)\r\n",
        "df1 = df1.sort_values(by='GAME_DATE_EST')\r\n",
        "df1 = df1.reset_index()\r\n",
        "del df1['index']\r\n",
        "df1 = df1.dropna()\r\n",
        "df1['PREDICT'] = df1.sort_values(by='GAME_DATE_EST', ascending=False).groupby('HOME_TEAM_ID')['HOME_TEAM_WINS'].shift(1)\r\n",
        "result = df1.dropna()"
      ],
      "execution_count": null,
      "outputs": [
        {
          "output_type": "stream",
          "text": [
            "/usr/local/lib/python3.7/dist-packages/ipykernel_launcher.py:3: SettingWithCopyWarning: \n",
            "A value is trying to be set on a copy of a slice from a DataFrame.\n",
            "Try using .loc[row_indexer,col_indexer] = value instead\n",
            "\n",
            "See the caveats in the documentation: https://pandas.pydata.org/pandas-docs/stable/user_guide/indexing.html#returning-a-view-versus-a-copy\n",
            "  This is separate from the ipykernel package so we can avoid doing imports until\n"
          ],
          "name": "stderr"
        }
      ]
    },
    {
      "cell_type": "code",
      "metadata": {
        "colab": {
          "base_uri": "https://localhost:8080/"
        },
        "id": "VaEDSdBsZY3X",
        "outputId": "ee13564d-d779-4fbf-cb55-bd78fb19e376"
      },
      "source": [
        "df_team['TEAM_ID'].unique()"
      ],
      "execution_count": null,
      "outputs": [
        {
          "output_type": "execute_result",
          "data": {
            "text/plain": [
              "array([1610612737, 1610612738, 1610612740, 1610612741, 1610612742,\n",
              "       1610612743, 1610612745, 1610612746, 1610612747, 1610612748,\n",
              "       1610612749, 1610612750, 1610612751, 1610612752, 1610612753,\n",
              "       1610612754, 1610612755, 1610612756, 1610612757, 1610612758,\n",
              "       1610612759, 1610612760, 1610612761, 1610612762, 1610612763,\n",
              "       1610612764, 1610612765, 1610612766, 1610612739, 1610612744])"
            ]
          },
          "metadata": {
            "tags": []
          },
          "execution_count": 69
        }
      ]
    },
    {
      "cell_type": "code",
      "metadata": {
        "colab": {
          "base_uri": "https://localhost:8080/"
        },
        "id": "Q5n2B1PDZSn9",
        "outputId": "c856396b-c721-47e2-ee96-5a9fd241ba13"
      },
      "source": [
        "for i in (1610612737, 1610612738, 1610612740, 1610612741, 1610612742,\r\n",
        "       1610612743, 1610612745, 1610612746, 1610612747, 1610612748,\r\n",
        "       1610612749, 1610612750, 1610612751, 1610612752, 1610612753,\r\n",
        "       1610612754, 1610612755, 1610612756, 1610612757,\r\n",
        "       1610612759, 1610612760, 1610612761, 1610612762, 1610612763,\r\n",
        "       1610612764, 1610612765, 1610612766, 1610612739, 1610612744):\r\n",
        "    df = pd.read_csv('/content/games.csv')\r\n",
        "    df1 = df[df['HOME_TEAM_ID']== i ]\r\n",
        "    df1['GAME_DATE_EST'] =pd.to_datetime(df1.GAME_DATE_EST)\r\n",
        "    df1 = df1.sort_values(by='GAME_DATE_EST')\r\n",
        "    df1 = df1.reset_index()\r\n",
        "    del df1['index']\r\n",
        "    df1 = df1.dropna()\r\n",
        "    df1['PREDICT'] = df1.sort_values(by='GAME_DATE_EST', ascending=False).groupby('HOME_TEAM_ID')['HOME_TEAM_WINS'].shift(1)\r\n",
        "    df1 = df1.dropna()\r\n",
        "    result = pd.concat([result,df1],ignore_index=True)"
      ],
      "execution_count": null,
      "outputs": [
        {
          "output_type": "stream",
          "text": [
            "/usr/local/lib/python3.7/dist-packages/ipykernel_launcher.py:9: SettingWithCopyWarning: \n",
            "A value is trying to be set on a copy of a slice from a DataFrame.\n",
            "Try using .loc[row_indexer,col_indexer] = value instead\n",
            "\n",
            "See the caveats in the documentation: https://pandas.pydata.org/pandas-docs/stable/user_guide/indexing.html#returning-a-view-versus-a-copy\n",
            "  if __name__ == '__main__':\n",
            "/usr/local/lib/python3.7/dist-packages/ipykernel_launcher.py:9: SettingWithCopyWarning: \n",
            "A value is trying to be set on a copy of a slice from a DataFrame.\n",
            "Try using .loc[row_indexer,col_indexer] = value instead\n",
            "\n",
            "See the caveats in the documentation: https://pandas.pydata.org/pandas-docs/stable/user_guide/indexing.html#returning-a-view-versus-a-copy\n",
            "  if __name__ == '__main__':\n",
            "/usr/local/lib/python3.7/dist-packages/ipykernel_launcher.py:9: SettingWithCopyWarning: \n",
            "A value is trying to be set on a copy of a slice from a DataFrame.\n",
            "Try using .loc[row_indexer,col_indexer] = value instead\n",
            "\n",
            "See the caveats in the documentation: https://pandas.pydata.org/pandas-docs/stable/user_guide/indexing.html#returning-a-view-versus-a-copy\n",
            "  if __name__ == '__main__':\n",
            "/usr/local/lib/python3.7/dist-packages/ipykernel_launcher.py:9: SettingWithCopyWarning: \n",
            "A value is trying to be set on a copy of a slice from a DataFrame.\n",
            "Try using .loc[row_indexer,col_indexer] = value instead\n",
            "\n",
            "See the caveats in the documentation: https://pandas.pydata.org/pandas-docs/stable/user_guide/indexing.html#returning-a-view-versus-a-copy\n",
            "  if __name__ == '__main__':\n",
            "/usr/local/lib/python3.7/dist-packages/ipykernel_launcher.py:9: SettingWithCopyWarning: \n",
            "A value is trying to be set on a copy of a slice from a DataFrame.\n",
            "Try using .loc[row_indexer,col_indexer] = value instead\n",
            "\n",
            "See the caveats in the documentation: https://pandas.pydata.org/pandas-docs/stable/user_guide/indexing.html#returning-a-view-versus-a-copy\n",
            "  if __name__ == '__main__':\n",
            "/usr/local/lib/python3.7/dist-packages/ipykernel_launcher.py:9: SettingWithCopyWarning: \n",
            "A value is trying to be set on a copy of a slice from a DataFrame.\n",
            "Try using .loc[row_indexer,col_indexer] = value instead\n",
            "\n",
            "See the caveats in the documentation: https://pandas.pydata.org/pandas-docs/stable/user_guide/indexing.html#returning-a-view-versus-a-copy\n",
            "  if __name__ == '__main__':\n",
            "/usr/local/lib/python3.7/dist-packages/ipykernel_launcher.py:9: SettingWithCopyWarning: \n",
            "A value is trying to be set on a copy of a slice from a DataFrame.\n",
            "Try using .loc[row_indexer,col_indexer] = value instead\n",
            "\n",
            "See the caveats in the documentation: https://pandas.pydata.org/pandas-docs/stable/user_guide/indexing.html#returning-a-view-versus-a-copy\n",
            "  if __name__ == '__main__':\n",
            "/usr/local/lib/python3.7/dist-packages/ipykernel_launcher.py:9: SettingWithCopyWarning: \n",
            "A value is trying to be set on a copy of a slice from a DataFrame.\n",
            "Try using .loc[row_indexer,col_indexer] = value instead\n",
            "\n",
            "See the caveats in the documentation: https://pandas.pydata.org/pandas-docs/stable/user_guide/indexing.html#returning-a-view-versus-a-copy\n",
            "  if __name__ == '__main__':\n",
            "/usr/local/lib/python3.7/dist-packages/ipykernel_launcher.py:9: SettingWithCopyWarning: \n",
            "A value is trying to be set on a copy of a slice from a DataFrame.\n",
            "Try using .loc[row_indexer,col_indexer] = value instead\n",
            "\n",
            "See the caveats in the documentation: https://pandas.pydata.org/pandas-docs/stable/user_guide/indexing.html#returning-a-view-versus-a-copy\n",
            "  if __name__ == '__main__':\n",
            "/usr/local/lib/python3.7/dist-packages/ipykernel_launcher.py:9: SettingWithCopyWarning: \n",
            "A value is trying to be set on a copy of a slice from a DataFrame.\n",
            "Try using .loc[row_indexer,col_indexer] = value instead\n",
            "\n",
            "See the caveats in the documentation: https://pandas.pydata.org/pandas-docs/stable/user_guide/indexing.html#returning-a-view-versus-a-copy\n",
            "  if __name__ == '__main__':\n",
            "/usr/local/lib/python3.7/dist-packages/ipykernel_launcher.py:9: SettingWithCopyWarning: \n",
            "A value is trying to be set on a copy of a slice from a DataFrame.\n",
            "Try using .loc[row_indexer,col_indexer] = value instead\n",
            "\n",
            "See the caveats in the documentation: https://pandas.pydata.org/pandas-docs/stable/user_guide/indexing.html#returning-a-view-versus-a-copy\n",
            "  if __name__ == '__main__':\n",
            "/usr/local/lib/python3.7/dist-packages/ipykernel_launcher.py:9: SettingWithCopyWarning: \n",
            "A value is trying to be set on a copy of a slice from a DataFrame.\n",
            "Try using .loc[row_indexer,col_indexer] = value instead\n",
            "\n",
            "See the caveats in the documentation: https://pandas.pydata.org/pandas-docs/stable/user_guide/indexing.html#returning-a-view-versus-a-copy\n",
            "  if __name__ == '__main__':\n",
            "/usr/local/lib/python3.7/dist-packages/ipykernel_launcher.py:9: SettingWithCopyWarning: \n",
            "A value is trying to be set on a copy of a slice from a DataFrame.\n",
            "Try using .loc[row_indexer,col_indexer] = value instead\n",
            "\n",
            "See the caveats in the documentation: https://pandas.pydata.org/pandas-docs/stable/user_guide/indexing.html#returning-a-view-versus-a-copy\n",
            "  if __name__ == '__main__':\n",
            "/usr/local/lib/python3.7/dist-packages/ipykernel_launcher.py:9: SettingWithCopyWarning: \n",
            "A value is trying to be set on a copy of a slice from a DataFrame.\n",
            "Try using .loc[row_indexer,col_indexer] = value instead\n",
            "\n",
            "See the caveats in the documentation: https://pandas.pydata.org/pandas-docs/stable/user_guide/indexing.html#returning-a-view-versus-a-copy\n",
            "  if __name__ == '__main__':\n",
            "/usr/local/lib/python3.7/dist-packages/ipykernel_launcher.py:9: SettingWithCopyWarning: \n",
            "A value is trying to be set on a copy of a slice from a DataFrame.\n",
            "Try using .loc[row_indexer,col_indexer] = value instead\n",
            "\n",
            "See the caveats in the documentation: https://pandas.pydata.org/pandas-docs/stable/user_guide/indexing.html#returning-a-view-versus-a-copy\n",
            "  if __name__ == '__main__':\n",
            "/usr/local/lib/python3.7/dist-packages/ipykernel_launcher.py:9: SettingWithCopyWarning: \n",
            "A value is trying to be set on a copy of a slice from a DataFrame.\n",
            "Try using .loc[row_indexer,col_indexer] = value instead\n",
            "\n",
            "See the caveats in the documentation: https://pandas.pydata.org/pandas-docs/stable/user_guide/indexing.html#returning-a-view-versus-a-copy\n",
            "  if __name__ == '__main__':\n",
            "/usr/local/lib/python3.7/dist-packages/ipykernel_launcher.py:9: SettingWithCopyWarning: \n",
            "A value is trying to be set on a copy of a slice from a DataFrame.\n",
            "Try using .loc[row_indexer,col_indexer] = value instead\n",
            "\n",
            "See the caveats in the documentation: https://pandas.pydata.org/pandas-docs/stable/user_guide/indexing.html#returning-a-view-versus-a-copy\n",
            "  if __name__ == '__main__':\n",
            "/usr/local/lib/python3.7/dist-packages/ipykernel_launcher.py:9: SettingWithCopyWarning: \n",
            "A value is trying to be set on a copy of a slice from a DataFrame.\n",
            "Try using .loc[row_indexer,col_indexer] = value instead\n",
            "\n",
            "See the caveats in the documentation: https://pandas.pydata.org/pandas-docs/stable/user_guide/indexing.html#returning-a-view-versus-a-copy\n",
            "  if __name__ == '__main__':\n",
            "/usr/local/lib/python3.7/dist-packages/ipykernel_launcher.py:9: SettingWithCopyWarning: \n",
            "A value is trying to be set on a copy of a slice from a DataFrame.\n",
            "Try using .loc[row_indexer,col_indexer] = value instead\n",
            "\n",
            "See the caveats in the documentation: https://pandas.pydata.org/pandas-docs/stable/user_guide/indexing.html#returning-a-view-versus-a-copy\n",
            "  if __name__ == '__main__':\n",
            "/usr/local/lib/python3.7/dist-packages/ipykernel_launcher.py:9: SettingWithCopyWarning: \n",
            "A value is trying to be set on a copy of a slice from a DataFrame.\n",
            "Try using .loc[row_indexer,col_indexer] = value instead\n",
            "\n",
            "See the caveats in the documentation: https://pandas.pydata.org/pandas-docs/stable/user_guide/indexing.html#returning-a-view-versus-a-copy\n",
            "  if __name__ == '__main__':\n",
            "/usr/local/lib/python3.7/dist-packages/ipykernel_launcher.py:9: SettingWithCopyWarning: \n",
            "A value is trying to be set on a copy of a slice from a DataFrame.\n",
            "Try using .loc[row_indexer,col_indexer] = value instead\n",
            "\n",
            "See the caveats in the documentation: https://pandas.pydata.org/pandas-docs/stable/user_guide/indexing.html#returning-a-view-versus-a-copy\n",
            "  if __name__ == '__main__':\n",
            "/usr/local/lib/python3.7/dist-packages/ipykernel_launcher.py:9: SettingWithCopyWarning: \n",
            "A value is trying to be set on a copy of a slice from a DataFrame.\n",
            "Try using .loc[row_indexer,col_indexer] = value instead\n",
            "\n",
            "See the caveats in the documentation: https://pandas.pydata.org/pandas-docs/stable/user_guide/indexing.html#returning-a-view-versus-a-copy\n",
            "  if __name__ == '__main__':\n",
            "/usr/local/lib/python3.7/dist-packages/ipykernel_launcher.py:9: SettingWithCopyWarning: \n",
            "A value is trying to be set on a copy of a slice from a DataFrame.\n",
            "Try using .loc[row_indexer,col_indexer] = value instead\n",
            "\n",
            "See the caveats in the documentation: https://pandas.pydata.org/pandas-docs/stable/user_guide/indexing.html#returning-a-view-versus-a-copy\n",
            "  if __name__ == '__main__':\n",
            "/usr/local/lib/python3.7/dist-packages/ipykernel_launcher.py:9: SettingWithCopyWarning: \n",
            "A value is trying to be set on a copy of a slice from a DataFrame.\n",
            "Try using .loc[row_indexer,col_indexer] = value instead\n",
            "\n",
            "See the caveats in the documentation: https://pandas.pydata.org/pandas-docs/stable/user_guide/indexing.html#returning-a-view-versus-a-copy\n",
            "  if __name__ == '__main__':\n",
            "/usr/local/lib/python3.7/dist-packages/ipykernel_launcher.py:9: SettingWithCopyWarning: \n",
            "A value is trying to be set on a copy of a slice from a DataFrame.\n",
            "Try using .loc[row_indexer,col_indexer] = value instead\n",
            "\n",
            "See the caveats in the documentation: https://pandas.pydata.org/pandas-docs/stable/user_guide/indexing.html#returning-a-view-versus-a-copy\n",
            "  if __name__ == '__main__':\n",
            "/usr/local/lib/python3.7/dist-packages/ipykernel_launcher.py:9: SettingWithCopyWarning: \n",
            "A value is trying to be set on a copy of a slice from a DataFrame.\n",
            "Try using .loc[row_indexer,col_indexer] = value instead\n",
            "\n",
            "See the caveats in the documentation: https://pandas.pydata.org/pandas-docs/stable/user_guide/indexing.html#returning-a-view-versus-a-copy\n",
            "  if __name__ == '__main__':\n",
            "/usr/local/lib/python3.7/dist-packages/ipykernel_launcher.py:9: SettingWithCopyWarning: \n",
            "A value is trying to be set on a copy of a slice from a DataFrame.\n",
            "Try using .loc[row_indexer,col_indexer] = value instead\n",
            "\n",
            "See the caveats in the documentation: https://pandas.pydata.org/pandas-docs/stable/user_guide/indexing.html#returning-a-view-versus-a-copy\n",
            "  if __name__ == '__main__':\n",
            "/usr/local/lib/python3.7/dist-packages/ipykernel_launcher.py:9: SettingWithCopyWarning: \n",
            "A value is trying to be set on a copy of a slice from a DataFrame.\n",
            "Try using .loc[row_indexer,col_indexer] = value instead\n",
            "\n",
            "See the caveats in the documentation: https://pandas.pydata.org/pandas-docs/stable/user_guide/indexing.html#returning-a-view-versus-a-copy\n",
            "  if __name__ == '__main__':\n",
            "/usr/local/lib/python3.7/dist-packages/ipykernel_launcher.py:9: SettingWithCopyWarning: \n",
            "A value is trying to be set on a copy of a slice from a DataFrame.\n",
            "Try using .loc[row_indexer,col_indexer] = value instead\n",
            "\n",
            "See the caveats in the documentation: https://pandas.pydata.org/pandas-docs/stable/user_guide/indexing.html#returning-a-view-versus-a-copy\n",
            "  if __name__ == '__main__':\n"
          ],
          "name": "stderr"
        }
      ]
    },
    {
      "cell_type": "code",
      "metadata": {
        "colab": {
          "base_uri": "https://localhost:8080/",
          "height": 224
        },
        "id": "vgLqrNC-Z-Sh",
        "outputId": "10200577-b8f4-48d7-e2e6-eaa0b15a341b"
      },
      "source": [
        "result.head()"
      ],
      "execution_count": null,
      "outputs": [
        {
          "output_type": "execute_result",
          "data": {
            "text/html": [
              "<div>\n",
              "<style scoped>\n",
              "    .dataframe tbody tr th:only-of-type {\n",
              "        vertical-align: middle;\n",
              "    }\n",
              "\n",
              "    .dataframe tbody tr th {\n",
              "        vertical-align: top;\n",
              "    }\n",
              "\n",
              "    .dataframe thead th {\n",
              "        text-align: right;\n",
              "    }\n",
              "</style>\n",
              "<table border=\"1\" class=\"dataframe\">\n",
              "  <thead>\n",
              "    <tr style=\"text-align: right;\">\n",
              "      <th></th>\n",
              "      <th>GAME_DATE_EST</th>\n",
              "      <th>GAME_ID</th>\n",
              "      <th>GAME_STATUS_TEXT</th>\n",
              "      <th>HOME_TEAM_ID</th>\n",
              "      <th>VISITOR_TEAM_ID</th>\n",
              "      <th>SEASON</th>\n",
              "      <th>TEAM_ID_home</th>\n",
              "      <th>PTS_home</th>\n",
              "      <th>FG_PCT_home</th>\n",
              "      <th>FT_PCT_home</th>\n",
              "      <th>FG3_PCT_home</th>\n",
              "      <th>AST_home</th>\n",
              "      <th>REB_home</th>\n",
              "      <th>TEAM_ID_away</th>\n",
              "      <th>PTS_away</th>\n",
              "      <th>FG_PCT_away</th>\n",
              "      <th>FT_PCT_away</th>\n",
              "      <th>FG3_PCT_away</th>\n",
              "      <th>AST_away</th>\n",
              "      <th>REB_away</th>\n",
              "      <th>HOME_TEAM_WINS</th>\n",
              "      <th>PREDICT</th>\n",
              "    </tr>\n",
              "  </thead>\n",
              "  <tbody>\n",
              "    <tr>\n",
              "      <th>0</th>\n",
              "      <td>2003-10-07</td>\n",
              "      <td>10300009</td>\n",
              "      <td>Final</td>\n",
              "      <td>1610612758</td>\n",
              "      <td>1610612746</td>\n",
              "      <td>2003</td>\n",
              "      <td>1610612758</td>\n",
              "      <td>101.0</td>\n",
              "      <td>0.467</td>\n",
              "      <td>0.871</td>\n",
              "      <td>0.444</td>\n",
              "      <td>19.0</td>\n",
              "      <td>39.0</td>\n",
              "      <td>1610612746</td>\n",
              "      <td>82.0</td>\n",
              "      <td>0.368</td>\n",
              "      <td>0.609</td>\n",
              "      <td>0.364</td>\n",
              "      <td>13.0</td>\n",
              "      <td>50.0</td>\n",
              "      <td>1</td>\n",
              "      <td>1.0</td>\n",
              "    </tr>\n",
              "    <tr>\n",
              "      <th>1</th>\n",
              "      <td>2003-10-29</td>\n",
              "      <td>20300014</td>\n",
              "      <td>Final</td>\n",
              "      <td>1610612758</td>\n",
              "      <td>1610612739</td>\n",
              "      <td>2003</td>\n",
              "      <td>1610612758</td>\n",
              "      <td>106.0</td>\n",
              "      <td>0.506</td>\n",
              "      <td>0.800</td>\n",
              "      <td>0.222</td>\n",
              "      <td>27.0</td>\n",
              "      <td>41.0</td>\n",
              "      <td>1610612739</td>\n",
              "      <td>92.0</td>\n",
              "      <td>0.465</td>\n",
              "      <td>0.667</td>\n",
              "      <td>0.545</td>\n",
              "      <td>24.0</td>\n",
              "      <td>39.0</td>\n",
              "      <td>1</td>\n",
              "      <td>1.0</td>\n",
              "    </tr>\n",
              "    <tr>\n",
              "      <th>2</th>\n",
              "      <td>2003-10-31</td>\n",
              "      <td>20300026</td>\n",
              "      <td>Final</td>\n",
              "      <td>1610612758</td>\n",
              "      <td>1610612755</td>\n",
              "      <td>2003</td>\n",
              "      <td>1610612758</td>\n",
              "      <td>100.0</td>\n",
              "      <td>0.514</td>\n",
              "      <td>0.783</td>\n",
              "      <td>0.545</td>\n",
              "      <td>26.0</td>\n",
              "      <td>33.0</td>\n",
              "      <td>1610612755</td>\n",
              "      <td>89.0</td>\n",
              "      <td>0.418</td>\n",
              "      <td>0.767</td>\n",
              "      <td>0.000</td>\n",
              "      <td>16.0</td>\n",
              "      <td>40.0</td>\n",
              "      <td>1</td>\n",
              "      <td>1.0</td>\n",
              "    </tr>\n",
              "    <tr>\n",
              "      <th>3</th>\n",
              "      <td>2003-11-11</td>\n",
              "      <td>20300100</td>\n",
              "      <td>Final</td>\n",
              "      <td>1610612758</td>\n",
              "      <td>1610612765</td>\n",
              "      <td>2003</td>\n",
              "      <td>1610612758</td>\n",
              "      <td>97.0</td>\n",
              "      <td>0.481</td>\n",
              "      <td>0.680</td>\n",
              "      <td>0.308</td>\n",
              "      <td>29.0</td>\n",
              "      <td>46.0</td>\n",
              "      <td>1610612765</td>\n",
              "      <td>91.0</td>\n",
              "      <td>0.397</td>\n",
              "      <td>0.771</td>\n",
              "      <td>0.286</td>\n",
              "      <td>9.0</td>\n",
              "      <td>47.0</td>\n",
              "      <td>1</td>\n",
              "      <td>1.0</td>\n",
              "    </tr>\n",
              "    <tr>\n",
              "      <th>4</th>\n",
              "      <td>2003-11-14</td>\n",
              "      <td>20300122</td>\n",
              "      <td>Final</td>\n",
              "      <td>1610612758</td>\n",
              "      <td>1610612761</td>\n",
              "      <td>2003</td>\n",
              "      <td>1610612758</td>\n",
              "      <td>94.0</td>\n",
              "      <td>0.500</td>\n",
              "      <td>0.929</td>\n",
              "      <td>0.385</td>\n",
              "      <td>29.0</td>\n",
              "      <td>48.0</td>\n",
              "      <td>1610612761</td>\n",
              "      <td>64.0</td>\n",
              "      <td>0.338</td>\n",
              "      <td>0.778</td>\n",
              "      <td>0.250</td>\n",
              "      <td>10.0</td>\n",
              "      <td>34.0</td>\n",
              "      <td>1</td>\n",
              "      <td>1.0</td>\n",
              "    </tr>\n",
              "  </tbody>\n",
              "</table>\n",
              "</div>"
            ],
            "text/plain": [
              "  GAME_DATE_EST   GAME_ID GAME_STATUS_TEXT  ...  REB_away  HOME_TEAM_WINS  PREDICT\n",
              "0    2003-10-07  10300009            Final  ...      50.0               1      1.0\n",
              "1    2003-10-29  20300014            Final  ...      39.0               1      1.0\n",
              "2    2003-10-31  20300026            Final  ...      40.0               1      1.0\n",
              "3    2003-11-11  20300100            Final  ...      47.0               1      1.0\n",
              "4    2003-11-14  20300122            Final  ...      34.0               1      1.0\n",
              "\n",
              "[5 rows x 22 columns]"
            ]
          },
          "metadata": {
            "tags": []
          },
          "execution_count": 71
        }
      ]
    },
    {
      "cell_type": "markdown",
      "metadata": {
        "id": "Iz6Tq6i_XtuV"
      },
      "source": [
        "# 다음 데이터로 다시 모델링 진행"
      ]
    },
    {
      "cell_type": "code",
      "metadata": {
        "id": "VjVbEmo2bn9p"
      },
      "source": [
        "result = result.sort_values(by='GAME_DATE_EST')"
      ],
      "execution_count": null,
      "outputs": []
    },
    {
      "cell_type": "code",
      "metadata": {
        "id": "6tfOGUqpbqO9"
      },
      "source": [
        "result = result.reset_index()\r\n",
        "del result['index']"
      ],
      "execution_count": null,
      "outputs": []
    },
    {
      "cell_type": "code",
      "metadata": {
        "colab": {
          "base_uri": "https://localhost:8080/"
        },
        "id": "Jjrhi6-0X13M",
        "outputId": "f4553b85-087e-4020-d361-48696b9ba7e2"
      },
      "source": [
        "result.info()"
      ],
      "execution_count": null,
      "outputs": [
        {
          "output_type": "stream",
          "text": [
            "<class 'pandas.core.frame.DataFrame'>\n",
            "RangeIndex: 23391 entries, 0 to 23390\n",
            "Data columns (total 22 columns):\n",
            " #   Column            Non-Null Count  Dtype         \n",
            "---  ------            --------------  -----         \n",
            " 0   GAME_DATE_EST     23391 non-null  datetime64[ns]\n",
            " 1   GAME_ID           23391 non-null  int64         \n",
            " 2   GAME_STATUS_TEXT  23391 non-null  object        \n",
            " 3   HOME_TEAM_ID      23391 non-null  int64         \n",
            " 4   VISITOR_TEAM_ID   23391 non-null  int64         \n",
            " 5   SEASON            23391 non-null  int64         \n",
            " 6   TEAM_ID_home      23391 non-null  int64         \n",
            " 7   PTS_home          23391 non-null  float64       \n",
            " 8   FG_PCT_home       23391 non-null  float64       \n",
            " 9   FT_PCT_home       23391 non-null  float64       \n",
            " 10  FG3_PCT_home      23391 non-null  float64       \n",
            " 11  AST_home          23391 non-null  float64       \n",
            " 12  REB_home          23391 non-null  float64       \n",
            " 13  TEAM_ID_away      23391 non-null  int64         \n",
            " 14  PTS_away          23391 non-null  float64       \n",
            " 15  FG_PCT_away       23391 non-null  float64       \n",
            " 16  FT_PCT_away       23391 non-null  float64       \n",
            " 17  FG3_PCT_away      23391 non-null  float64       \n",
            " 18  AST_away          23391 non-null  float64       \n",
            " 19  REB_away          23391 non-null  float64       \n",
            " 20  HOME_TEAM_WINS    23391 non-null  int64         \n",
            " 21  PREDICT           23391 non-null  float64       \n",
            "dtypes: datetime64[ns](1), float64(13), int64(7), object(1)\n",
            "memory usage: 3.9+ MB\n"
          ],
          "name": "stdout"
        }
      ]
    },
    {
      "cell_type": "code",
      "metadata": {
        "id": "pAhHzBC6b7w7"
      },
      "source": [
        "result= result[['HOME_TEAM_ID','VISITOR_TEAM_ID', 'SEASON', 'PTS_home', 'FG_PCT_home',\r\n",
        "       'FT_PCT_home', 'FG3_PCT_home', 'AST_home', 'REB_home', 'TEAM_ID_away',\r\n",
        "       'PTS_away', 'FG_PCT_away', 'FT_PCT_away', 'FG3_PCT_away', 'AST_away',\r\n",
        "       'REB_away','PREDICT']]"
      ],
      "execution_count": null,
      "outputs": []
    },
    {
      "cell_type": "code",
      "metadata": {
        "id": "cyYmImwGcLUy"
      },
      "source": [
        "# TEAM ID 숫자를 약어로 변경\r\n",
        "for i in range(0,30):\r\n",
        "    result = result.replace(df_team['TEAM_ID'][i],df_team['ABBREVIATION'][i])"
      ],
      "execution_count": null,
      "outputs": []
    },
    {
      "cell_type": "code",
      "metadata": {
        "id": "HQq94rrSX1RB"
      },
      "source": [
        "# train, val, test 를 6:2:2 나누어줌\r\n",
        "\r\n",
        "test = result[-4600:]\r\n",
        "val = result[-9200:-4600]\r\n",
        "train = result[:-9200]"
      ],
      "execution_count": null,
      "outputs": []
    },
    {
      "cell_type": "markdown",
      "metadata": {
        "id": "e15iL1eHcT19"
      },
      "source": [
        "# 방법1) 결정트리"
      ]
    },
    {
      "cell_type": "code",
      "metadata": {
        "id": "U3fhCfSmcc6x"
      },
      "source": [
        "target = 'PREDICT'"
      ],
      "execution_count": null,
      "outputs": []
    },
    {
      "cell_type": "code",
      "metadata": {
        "id": "nPekXkZbcgZY"
      },
      "source": [
        "features = train.drop(columns=[target]).columns"
      ],
      "execution_count": null,
      "outputs": []
    },
    {
      "cell_type": "code",
      "metadata": {
        "id": "Tjp8ZJX-c0A3"
      },
      "source": [
        "X_train = train[features]\r\n",
        "y_train = train[target]\r\n",
        "\r\n",
        "X_val = val[features]\r\n",
        "y_val = val[target]\r\n",
        "\r\n",
        "X_test = test[features]\r\n",
        "y_test = test[target]"
      ],
      "execution_count": null,
      "outputs": []
    },
    {
      "cell_type": "code",
      "metadata": {
        "colab": {
          "base_uri": "https://localhost:8080/"
        },
        "id": "DUxwBiYzc8Qg",
        "outputId": "c33f8e7d-d470-48cb-9458-2bb7a4ae708a"
      },
      "source": [
        "!pip install category_encoders"
      ],
      "execution_count": null,
      "outputs": [
        {
          "output_type": "stream",
          "text": [
            "Requirement already satisfied: category_encoders in /usr/local/lib/python3.7/dist-packages (2.2.2)\n",
            "Requirement already satisfied: scipy>=1.0.0 in /usr/local/lib/python3.7/dist-packages (from category_encoders) (1.4.1)\n",
            "Requirement already satisfied: patsy>=0.5.1 in /usr/local/lib/python3.7/dist-packages (from category_encoders) (0.5.1)\n",
            "Requirement already satisfied: numpy>=1.14.0 in /usr/local/lib/python3.7/dist-packages (from category_encoders) (1.19.5)\n",
            "Requirement already satisfied: pandas>=0.21.1 in /usr/local/lib/python3.7/dist-packages (from category_encoders) (1.1.5)\n",
            "Requirement already satisfied: scikit-learn>=0.20.0 in /usr/local/lib/python3.7/dist-packages (from category_encoders) (0.22.2.post1)\n",
            "Requirement already satisfied: statsmodels>=0.9.0 in /usr/local/lib/python3.7/dist-packages (from category_encoders) (0.10.2)\n",
            "Requirement already satisfied: six in /usr/local/lib/python3.7/dist-packages (from patsy>=0.5.1->category_encoders) (1.15.0)\n",
            "Requirement already satisfied: python-dateutil>=2.7.3 in /usr/local/lib/python3.7/dist-packages (from pandas>=0.21.1->category_encoders) (2.8.1)\n",
            "Requirement already satisfied: pytz>=2017.2 in /usr/local/lib/python3.7/dist-packages (from pandas>=0.21.1->category_encoders) (2018.9)\n",
            "Requirement already satisfied: joblib>=0.11 in /usr/local/lib/python3.7/dist-packages (from scikit-learn>=0.20.0->category_encoders) (1.0.1)\n"
          ],
          "name": "stdout"
        }
      ]
    },
    {
      "cell_type": "code",
      "metadata": {
        "id": "2T5vKAFfc7SM"
      },
      "source": [
        "from category_encoders import OneHotEncoder\r\n",
        "from category_encoders import OrdinalEncoder\r\n",
        "from sklearn.impute import SimpleImputer\r\n",
        "from sklearn.preprocessing import StandardScaler\r\n",
        "from sklearn.linear_model import LogisticRegression\r\n",
        "from sklearn.pipeline import make_pipeline\r\n",
        "from sklearn.tree import DecisionTreeClassifier"
      ],
      "execution_count": null,
      "outputs": []
    },
    {
      "cell_type": "code",
      "metadata": {
        "colab": {
          "base_uri": "https://localhost:8080/"
        },
        "id": "XG_N2hBqcwNl",
        "outputId": "9bde8fbc-c698-49d2-ea70-e86960316f79"
      },
      "source": [
        "pipe_tree = make_pipeline(\r\n",
        "    OneHotEncoder(use_cat_names=True), \r\n",
        "    SimpleImputer(), \r\n",
        "    DecisionTreeClassifier(random_state=2, criterion='entropy')\r\n",
        ")\r\n",
        "\r\n",
        "pipe_tree.fit(X_train, y_train)"
      ],
      "execution_count": null,
      "outputs": [
        {
          "output_type": "stream",
          "text": [
            "/usr/local/lib/python3.7/dist-packages/category_encoders/utils.py:21: FutureWarning: is_categorical is deprecated and will be removed in a future version.  Use is_categorical_dtype instead\n",
            "  elif pd.api.types.is_categorical(cols):\n"
          ],
          "name": "stderr"
        },
        {
          "output_type": "execute_result",
          "data": {
            "text/plain": [
              "Pipeline(memory=None,\n",
              "         steps=[('onehotencoder',\n",
              "                 OneHotEncoder(cols=['HOME_TEAM_ID', 'VISITOR_TEAM_ID',\n",
              "                                     'TEAM_ID_away'],\n",
              "                               drop_invariant=False, handle_missing='value',\n",
              "                               handle_unknown='value', return_df=True,\n",
              "                               use_cat_names=True, verbose=0)),\n",
              "                ('simpleimputer',\n",
              "                 SimpleImputer(add_indicator=False, copy=True, fill_value=None,\n",
              "                               missing_values=nan, strategy='mean',\n",
              "                               verbose=0)),\n",
              "                ('decisiontreeclassifier',\n",
              "                 DecisionTreeClassifier(ccp_alpha=0.0, class_weight=None,\n",
              "                                        criterion='entropy', max_depth=None,\n",
              "                                        max_features=None, max_leaf_nodes=None,\n",
              "                                        min_impurity_decrease=0.0,\n",
              "                                        min_impurity_split=None,\n",
              "                                        min_samples_leaf=1, min_samples_split=2,\n",
              "                                        min_weight_fraction_leaf=0.0,\n",
              "                                        presort='deprecated', random_state=2,\n",
              "                                        splitter='best'))],\n",
              "         verbose=False)"
            ]
          },
          "metadata": {
            "tags": []
          },
          "execution_count": 83
        }
      ]
    },
    {
      "cell_type": "code",
      "metadata": {
        "colab": {
          "base_uri": "https://localhost:8080/"
        },
        "id": "ccXnrJxddDQU",
        "outputId": "c95411c3-7e30-4630-86b7-81ea0ca13554"
      },
      "source": [
        "print('훈련 정확도', pipe_tree.score(X_train, y_train))\r\n",
        "print('검증 정확도', pipe_tree.score(X_val, y_val))"
      ],
      "execution_count": null,
      "outputs": [
        {
          "output_type": "stream",
          "text": [
            "훈련 정확도 1.0\n",
            "검증 정확도 0.5239130434782608\n"
          ],
          "name": "stdout"
        }
      ]
    },
    {
      "cell_type": "code",
      "metadata": {
        "colab": {
          "base_uri": "https://localhost:8080/"
        },
        "id": "3Fcs2iL4dH5i",
        "outputId": "b38d9c96-d9ce-4e71-9d22-1935674cbee4"
      },
      "source": [
        "# 복잡도를 낮추어 일반화 유도 (1)\r\n",
        "\r\n",
        "pipe_tree_2 = make_pipeline(\r\n",
        "    OneHotEncoder(use_cat_names=True), \r\n",
        "    SimpleImputer(), \r\n",
        "    DecisionTreeClassifier(min_samples_leaf=10, random_state=2)\r\n",
        ")\r\n",
        "\r\n",
        "pipe_tree_2.fit(X_train, y_train)\r\n",
        "print('훈련 정확도', pipe_tree_2.score(X_train, y_train))\r\n",
        "print('검증 정확도', pipe_tree_2.score(X_val, y_val))\r\n",
        "print('테스트 정확도', pipe_tree_2.score(X_test, y_test))"
      ],
      "execution_count": null,
      "outputs": [
        {
          "output_type": "stream",
          "text": [
            "/usr/local/lib/python3.7/dist-packages/category_encoders/utils.py:21: FutureWarning: is_categorical is deprecated and will be removed in a future version.  Use is_categorical_dtype instead\n",
            "  elif pd.api.types.is_categorical(cols):\n"
          ],
          "name": "stderr"
        },
        {
          "output_type": "stream",
          "text": [
            "훈련 정확도 0.7766894510605313\n",
            "검증 정확도 0.5226086956521739\n",
            "테스트 정확도 0.513695652173913\n"
          ],
          "name": "stdout"
        }
      ]
    },
    {
      "cell_type": "code",
      "metadata": {
        "colab": {
          "base_uri": "https://localhost:8080/"
        },
        "id": "seANlbcKdMSO",
        "outputId": "088f2904-0af8-4703-8070-83d0a3898c90"
      },
      "source": [
        "#복잡도를 낮추어 일반화 유도 (2)\r\n",
        "\r\n",
        "pipe_tree_3 = make_pipeline(\r\n",
        "    OneHotEncoder(use_cat_names=True), \r\n",
        "    SimpleImputer(), \r\n",
        "    DecisionTreeClassifier(max_depth=6, random_state=2)\r\n",
        ")\r\n",
        "\r\n",
        "pipe_tree_3.fit(X_train, y_train)\r\n",
        "print('훈련 정확도', pipe_tree_3.score(X_train, y_train))\r\n",
        "print('검증 정확도', pipe_tree_3.score(X_val, y_val))\r\n",
        "print('테스트 정확도', pipe_tree_3.score(X_test, y_test))"
      ],
      "execution_count": null,
      "outputs": [
        {
          "output_type": "stream",
          "text": [
            "/usr/local/lib/python3.7/dist-packages/category_encoders/utils.py:21: FutureWarning: is_categorical is deprecated and will be removed in a future version.  Use is_categorical_dtype instead\n",
            "  elif pd.api.types.is_categorical(cols):\n"
          ],
          "name": "stderr"
        },
        {
          "output_type": "stream",
          "text": [
            "훈련 정확도 0.6110210696920584\n",
            "검증 정확도 0.5782608695652174\n",
            "테스트 정확도 0.5678260869565217\n"
          ],
          "name": "stdout"
        }
      ]
    },
    {
      "cell_type": "markdown",
      "metadata": {
        "id": "MpgSgSxsdRHC"
      },
      "source": [
        "#방법2) 랜덤포레스트"
      ]
    },
    {
      "cell_type": "code",
      "metadata": {
        "colab": {
          "base_uri": "https://localhost:8080/"
        },
        "id": "xvhRGOaddO63",
        "outputId": "fdbd12f9-8e94-4b68-ac95-c633f16c95a5"
      },
      "source": [
        "from sklearn.ensemble import RandomForestClassifier\r\n",
        "\r\n",
        "pipe_random = make_pipeline(\r\n",
        "    OrdinalEncoder(), \r\n",
        "    SimpleImputer(), \r\n",
        "    RandomForestClassifier(n_jobs=-1, random_state=10, oob_score=True)\r\n",
        ")\r\n",
        "\r\n",
        "pipe_random.fit(X_train, y_train)\r\n",
        "print('훈련 정확도', pipe_random.score(X_train, y_train))\r\n",
        "print('검증 정확도', pipe_random.score(X_val, y_val))\r\n",
        "print('테스트 정확도', pipe_random.score(X_test, y_test))"
      ],
      "execution_count": null,
      "outputs": [
        {
          "output_type": "stream",
          "text": [
            "훈련 정확도 1.0\n",
            "검증 정확도 0.5610869565217391\n",
            "테스트 정확도 0.5595652173913044\n"
          ],
          "name": "stdout"
        }
      ]
    },
    {
      "cell_type": "code",
      "metadata": {
        "colab": {
          "base_uri": "https://localhost:8080/",
          "height": 297
        },
        "id": "el74tzAXdU6j",
        "outputId": "ce15f72e-9fb2-44c2-f4b2-b009fc6c003c"
      },
      "source": [
        "# 해당 모델의 성능 평가 지표를 분석해보도록 하겠습니다\r\n",
        "\r\n",
        "from sklearn.metrics import plot_confusion_matrix\r\n",
        "import matplotlib.pyplot as plt\r\n",
        "\r\n",
        "fig, ax = plt.subplots()\r\n",
        "pcm = plot_confusion_matrix(pipe_random, X_val, y_val,\r\n",
        "                            cmap=plt.cm.Blues,\r\n",
        "                            ax=ax);\r\n",
        "plt.title(f'Confusion matrix, n = {len(y_val)}', fontsize=15)\r\n",
        "plt.show()"
      ],
      "execution_count": null,
      "outputs": [
        {
          "output_type": "display_data",
          "data": {
            "image/png": "[encoded data removed]",
            "text/plain": [
              "<Figure size 432x288 with 2 Axes>"
            ]
          },
          "metadata": {
            "tags": [],
            "needs_background": "light"
          }
        }
      ]
    },
    {
      "cell_type": "code",
      "metadata": {
        "colab": {
          "base_uri": "https://localhost:8080/"
        },
        "id": "Y4GcVifWdZGg",
        "outputId": "4d06c932-3614-428c-d345-3f17bae406ae"
      },
      "source": [
        "cm = pcm.confusion_matrix\r\n",
        "cm"
      ],
      "execution_count": null,
      "outputs": [
        {
          "output_type": "execute_result",
          "data": {
            "text/plain": [
              "array([[ 358, 1564],\n",
              "       [ 455, 2223]])"
            ]
          },
          "metadata": {
            "tags": []
          },
          "execution_count": 89
        }
      ]
    },
    {
      "cell_type": "code",
      "metadata": {
        "colab": {
          "base_uri": "https://localhost:8080/"
        },
        "id": "kF4xMdPldbIO",
        "outputId": "c4009222-ed5d-4770-c264-41e29909da1c"
      },
      "source": [
        "from sklearn.metrics import classification_report\r\n",
        "\r\n",
        "y_pred = pipe_random.predict(X_val)\r\n",
        "\r\n",
        "print(classification_report(y_val, y_pred))"
      ],
      "execution_count": null,
      "outputs": [
        {
          "output_type": "stream",
          "text": [
            "              precision    recall  f1-score   support\n",
            "\n",
            "         0.0       0.44      0.19      0.26      1922\n",
            "         1.0       0.59      0.83      0.69      2678\n",
            "\n",
            "    accuracy                           0.56      4600\n",
            "   macro avg       0.51      0.51      0.47      4600\n",
            "weighted avg       0.53      0.56      0.51      4600\n",
            "\n"
          ],
          "name": "stdout"
        }
      ]
    },
    {
      "cell_type": "code",
      "metadata": {
        "colab": {
          "base_uri": "https://localhost:8080/"
        },
        "id": "SdW7uzbEdgNx",
        "outputId": "eae1cc10-69a9-4a12-b43d-28027d4075c4"
      },
      "source": [
        "pipe_random.predict_proba(X_val)"
      ],
      "execution_count": null,
      "outputs": [
        {
          "output_type": "execute_result",
          "data": {
            "text/plain": [
              "array([[0.45, 0.55],\n",
              "       [0.51, 0.49],\n",
              "       [0.41, 0.59],\n",
              "       ...,\n",
              "       [0.38, 0.62],\n",
              "       [0.4 , 0.6 ],\n",
              "       [0.38, 0.62]])"
            ]
          },
          "metadata": {
            "tags": []
          },
          "execution_count": 91
        }
      ]
    },
    {
      "cell_type": "code",
      "metadata": {
        "colab": {
          "base_uri": "https://localhost:8080/"
        },
        "id": "rdkeR5gGdiaH",
        "outputId": "a5705b74-4cd9-4ed4-c749-f534f957644b"
      },
      "source": [
        "y_pred_proba = pipe_random.predict_proba(X_val)[:, 1]\r\n",
        "y_pred_proba"
      ],
      "execution_count": null,
      "outputs": [
        {
          "output_type": "execute_result",
          "data": {
            "text/plain": [
              "array([0.55, 0.49, 0.59, ..., 0.62, 0.6 , 0.62])"
            ]
          },
          "metadata": {
            "tags": []
          },
          "execution_count": 92
        }
      ]
    },
    {
      "cell_type": "code",
      "metadata": {
        "colab": {
          "base_uri": "https://localhost:8080/",
          "height": 369
        },
        "id": "guEcwVSAdj15",
        "outputId": "7e6e49e2-1506-45cc-ce60-0d0f4808497b"
      },
      "source": [
        "import seaborn as sns\r\n",
        "sns.displot(y_pred_proba);"
      ],
      "execution_count": null,
      "outputs": [
        {
          "output_type": "display_data",
          "data": {
            "image/png": "[encoded data removed]",
            "text/plain": [
              "<Figure size 360x360 with 1 Axes>"
            ]
          },
          "metadata": {
            "tags": [],
            "needs_background": "light"
          }
        }
      ]
    },
    {
      "cell_type": "code",
      "metadata": {
        "colab": {
          "base_uri": "https://localhost:8080/",
          "height": 1000
        },
        "id": "3Ca-Ln5Cdl5V",
        "outputId": "b6920221-e778-4d85-d7eb-e007f8376dd7"
      },
      "source": [
        "from sklearn.metrics import roc_curve\r\n",
        "\r\n",
        "# roc_curve(타겟값, prob of 1)\r\n",
        "fpr, tpr, thresholds = roc_curve(y_val, y_pred_proba)\r\n",
        "\r\n",
        "roc = pd.DataFrame({\r\n",
        "    'FPR(Fall-out)': fpr, \r\n",
        "    'TPRate(Recall)': tpr, \r\n",
        "    'Threshold': thresholds\r\n",
        "})\r\n",
        "roc"
      ],
      "execution_count": null,
      "outputs": [
        {
          "output_type": "execute_result",
          "data": {
            "text/html": [
              "<div>\n",
              "<style scoped>\n",
              "    .dataframe tbody tr th:only-of-type {\n",
              "        vertical-align: middle;\n",
              "    }\n",
              "\n",
              "    .dataframe tbody tr th {\n",
              "        vertical-align: top;\n",
              "    }\n",
              "\n",
              "    .dataframe thead th {\n",
              "        text-align: right;\n",
              "    }\n",
              "</style>\n",
              "<table border=\"1\" class=\"dataframe\">\n",
              "  <thead>\n",
              "    <tr style=\"text-align: right;\">\n",
              "      <th></th>\n",
              "      <th>FPR(Fall-out)</th>\n",
              "      <th>TPRate(Recall)</th>\n",
              "      <th>Threshold</th>\n",
              "    </tr>\n",
              "  </thead>\n",
              "  <tbody>\n",
              "    <tr>\n",
              "      <th>0</th>\n",
              "      <td>0.000000</td>\n",
              "      <td>0.000000</td>\n",
              "      <td>1.83</td>\n",
              "    </tr>\n",
              "    <tr>\n",
              "      <th>1</th>\n",
              "      <td>0.000000</td>\n",
              "      <td>0.000747</td>\n",
              "      <td>0.83</td>\n",
              "    </tr>\n",
              "    <tr>\n",
              "      <th>2</th>\n",
              "      <td>0.000000</td>\n",
              "      <td>0.001120</td>\n",
              "      <td>0.82</td>\n",
              "    </tr>\n",
              "    <tr>\n",
              "      <th>3</th>\n",
              "      <td>0.001041</td>\n",
              "      <td>0.002240</td>\n",
              "      <td>0.81</td>\n",
              "    </tr>\n",
              "    <tr>\n",
              "      <th>4</th>\n",
              "      <td>0.001561</td>\n",
              "      <td>0.002987</td>\n",
              "      <td>0.80</td>\n",
              "    </tr>\n",
              "    <tr>\n",
              "      <th>5</th>\n",
              "      <td>0.002601</td>\n",
              "      <td>0.005228</td>\n",
              "      <td>0.79</td>\n",
              "    </tr>\n",
              "    <tr>\n",
              "      <th>6</th>\n",
              "      <td>0.003122</td>\n",
              "      <td>0.007095</td>\n",
              "      <td>0.78</td>\n",
              "    </tr>\n",
              "    <tr>\n",
              "      <th>7</th>\n",
              "      <td>0.005203</td>\n",
              "      <td>0.010082</td>\n",
              "      <td>0.77</td>\n",
              "    </tr>\n",
              "    <tr>\n",
              "      <th>8</th>\n",
              "      <td>0.006243</td>\n",
              "      <td>0.012323</td>\n",
              "      <td>0.76</td>\n",
              "    </tr>\n",
              "    <tr>\n",
              "      <th>9</th>\n",
              "      <td>0.011446</td>\n",
              "      <td>0.016057</td>\n",
              "      <td>0.75</td>\n",
              "    </tr>\n",
              "    <tr>\n",
              "      <th>10</th>\n",
              "      <td>0.016649</td>\n",
              "      <td>0.021285</td>\n",
              "      <td>0.74</td>\n",
              "    </tr>\n",
              "    <tr>\n",
              "      <th>11</th>\n",
              "      <td>0.024974</td>\n",
              "      <td>0.029126</td>\n",
              "      <td>0.73</td>\n",
              "    </tr>\n",
              "    <tr>\n",
              "      <th>12</th>\n",
              "      <td>0.035900</td>\n",
              "      <td>0.041075</td>\n",
              "      <td>0.72</td>\n",
              "    </tr>\n",
              "    <tr>\n",
              "      <th>13</th>\n",
              "      <td>0.047867</td>\n",
              "      <td>0.055639</td>\n",
              "      <td>0.71</td>\n",
              "    </tr>\n",
              "    <tr>\n",
              "      <th>14</th>\n",
              "      <td>0.063996</td>\n",
              "      <td>0.075056</td>\n",
              "      <td>0.70</td>\n",
              "    </tr>\n",
              "    <tr>\n",
              "      <th>15</th>\n",
              "      <td>0.081686</td>\n",
              "      <td>0.091860</td>\n",
              "      <td>0.69</td>\n",
              "    </tr>\n",
              "    <tr>\n",
              "      <th>16</th>\n",
              "      <td>0.100937</td>\n",
              "      <td>0.114638</td>\n",
              "      <td>0.68</td>\n",
              "    </tr>\n",
              "    <tr>\n",
              "      <th>17</th>\n",
              "      <td>0.126951</td>\n",
              "      <td>0.142644</td>\n",
              "      <td>0.67</td>\n",
              "    </tr>\n",
              "    <tr>\n",
              "      <th>18</th>\n",
              "      <td>0.156608</td>\n",
              "      <td>0.178865</td>\n",
              "      <td>0.66</td>\n",
              "    </tr>\n",
              "    <tr>\n",
              "      <th>19</th>\n",
              "      <td>0.190947</td>\n",
              "      <td>0.208738</td>\n",
              "      <td>0.65</td>\n",
              "    </tr>\n",
              "    <tr>\n",
              "      <th>20</th>\n",
              "      <td>0.224766</td>\n",
              "      <td>0.247199</td>\n",
              "      <td>0.64</td>\n",
              "    </tr>\n",
              "    <tr>\n",
              "      <th>21</th>\n",
              "      <td>0.266909</td>\n",
              "      <td>0.293876</td>\n",
              "      <td>0.63</td>\n",
              "    </tr>\n",
              "    <tr>\n",
              "      <th>22</th>\n",
              "      <td>0.312695</td>\n",
              "      <td>0.339432</td>\n",
              "      <td>0.62</td>\n",
              "    </tr>\n",
              "    <tr>\n",
              "      <th>23</th>\n",
              "      <td>0.363163</td>\n",
              "      <td>0.386856</td>\n",
              "      <td>0.61</td>\n",
              "    </tr>\n",
              "    <tr>\n",
              "      <th>24</th>\n",
              "      <td>0.407908</td>\n",
              "      <td>0.443241</td>\n",
              "      <td>0.60</td>\n",
              "    </tr>\n",
              "    <tr>\n",
              "      <th>25</th>\n",
              "      <td>0.466181</td>\n",
              "      <td>0.495519</td>\n",
              "      <td>0.59</td>\n",
              "    </tr>\n",
              "    <tr>\n",
              "      <th>26</th>\n",
              "      <td>0.518210</td>\n",
              "      <td>0.545556</td>\n",
              "      <td>0.58</td>\n",
              "    </tr>\n",
              "    <tr>\n",
              "      <th>27</th>\n",
              "      <td>0.564516</td>\n",
              "      <td>0.595220</td>\n",
              "      <td>0.57</td>\n",
              "    </tr>\n",
              "    <tr>\n",
              "      <th>28</th>\n",
              "      <td>0.611342</td>\n",
              "      <td>0.643017</td>\n",
              "      <td>0.56</td>\n",
              "    </tr>\n",
              "    <tr>\n",
              "      <th>29</th>\n",
              "      <td>0.661290</td>\n",
              "      <td>0.691187</td>\n",
              "      <td>0.55</td>\n",
              "    </tr>\n",
              "    <tr>\n",
              "      <th>30</th>\n",
              "      <td>0.703434</td>\n",
              "      <td>0.731516</td>\n",
              "      <td>0.54</td>\n",
              "    </tr>\n",
              "    <tr>\n",
              "      <th>31</th>\n",
              "      <td>0.745578</td>\n",
              "      <td>0.768111</td>\n",
              "      <td>0.53</td>\n",
              "    </tr>\n",
              "    <tr>\n",
              "      <th>32</th>\n",
              "      <td>0.780437</td>\n",
              "      <td>0.803585</td>\n",
              "      <td>0.52</td>\n",
              "    </tr>\n",
              "    <tr>\n",
              "      <th>33</th>\n",
              "      <td>0.813736</td>\n",
              "      <td>0.830097</td>\n",
              "      <td>0.51</td>\n",
              "    </tr>\n",
              "    <tr>\n",
              "      <th>34</th>\n",
              "      <td>0.838189</td>\n",
              "      <td>0.852875</td>\n",
              "      <td>0.50</td>\n",
              "    </tr>\n",
              "    <tr>\n",
              "      <th>35</th>\n",
              "      <td>0.862643</td>\n",
              "      <td>0.877521</td>\n",
              "      <td>0.49</td>\n",
              "    </tr>\n",
              "    <tr>\n",
              "      <th>36</th>\n",
              "      <td>0.882934</td>\n",
              "      <td>0.899178</td>\n",
              "      <td>0.48</td>\n",
              "    </tr>\n",
              "    <tr>\n",
              "      <th>37</th>\n",
              "      <td>0.906868</td>\n",
              "      <td>0.920463</td>\n",
              "      <td>0.47</td>\n",
              "    </tr>\n",
              "    <tr>\n",
              "      <th>38</th>\n",
              "      <td>0.924558</td>\n",
              "      <td>0.933159</td>\n",
              "      <td>0.46</td>\n",
              "    </tr>\n",
              "    <tr>\n",
              "      <th>39</th>\n",
              "      <td>0.941727</td>\n",
              "      <td>0.942868</td>\n",
              "      <td>0.45</td>\n",
              "    </tr>\n",
              "    <tr>\n",
              "      <th>40</th>\n",
              "      <td>0.953694</td>\n",
              "      <td>0.952203</td>\n",
              "      <td>0.44</td>\n",
              "    </tr>\n",
              "    <tr>\n",
              "      <th>41</th>\n",
              "      <td>0.961498</td>\n",
              "      <td>0.961165</td>\n",
              "      <td>0.43</td>\n",
              "    </tr>\n",
              "    <tr>\n",
              "      <th>42</th>\n",
              "      <td>0.968262</td>\n",
              "      <td>0.971247</td>\n",
              "      <td>0.42</td>\n",
              "    </tr>\n",
              "    <tr>\n",
              "      <th>43</th>\n",
              "      <td>0.976587</td>\n",
              "      <td>0.976102</td>\n",
              "      <td>0.41</td>\n",
              "    </tr>\n",
              "    <tr>\n",
              "      <th>44</th>\n",
              "      <td>0.981270</td>\n",
              "      <td>0.981703</td>\n",
              "      <td>0.40</td>\n",
              "    </tr>\n",
              "    <tr>\n",
              "      <th>45</th>\n",
              "      <td>0.986472</td>\n",
              "      <td>0.986184</td>\n",
              "      <td>0.39</td>\n",
              "    </tr>\n",
              "    <tr>\n",
              "      <th>46</th>\n",
              "      <td>0.989594</td>\n",
              "      <td>0.990291</td>\n",
              "      <td>0.38</td>\n",
              "    </tr>\n",
              "    <tr>\n",
              "      <th>47</th>\n",
              "      <td>0.992716</td>\n",
              "      <td>0.994025</td>\n",
              "      <td>0.37</td>\n",
              "    </tr>\n",
              "    <tr>\n",
              "      <th>48</th>\n",
              "      <td>0.993236</td>\n",
              "      <td>0.995892</td>\n",
              "      <td>0.36</td>\n",
              "    </tr>\n",
              "    <tr>\n",
              "      <th>49</th>\n",
              "      <td>0.996878</td>\n",
              "      <td>0.997013</td>\n",
              "      <td>0.35</td>\n",
              "    </tr>\n",
              "    <tr>\n",
              "      <th>50</th>\n",
              "      <td>0.997399</td>\n",
              "      <td>0.997760</td>\n",
              "      <td>0.34</td>\n",
              "    </tr>\n",
              "    <tr>\n",
              "      <th>51</th>\n",
              "      <td>0.997399</td>\n",
              "      <td>0.998880</td>\n",
              "      <td>0.33</td>\n",
              "    </tr>\n",
              "    <tr>\n",
              "      <th>52</th>\n",
              "      <td>0.997399</td>\n",
              "      <td>0.999253</td>\n",
              "      <td>0.32</td>\n",
              "    </tr>\n",
              "    <tr>\n",
              "      <th>53</th>\n",
              "      <td>0.998959</td>\n",
              "      <td>0.999627</td>\n",
              "      <td>0.30</td>\n",
              "    </tr>\n",
              "    <tr>\n",
              "      <th>54</th>\n",
              "      <td>0.998959</td>\n",
              "      <td>1.000000</td>\n",
              "      <td>0.29</td>\n",
              "    </tr>\n",
              "    <tr>\n",
              "      <th>55</th>\n",
              "      <td>1.000000</td>\n",
              "      <td>1.000000</td>\n",
              "      <td>0.27</td>\n",
              "    </tr>\n",
              "  </tbody>\n",
              "</table>\n",
              "</div>"
            ],
            "text/plain": [
              "    FPR(Fall-out)  TPRate(Recall)  Threshold\n",
              "0        0.000000        0.000000       1.83\n",
              "1        0.000000        0.000747       0.83\n",
              "2        0.000000        0.001120       0.82\n",
              "3        0.001041        0.002240       0.81\n",
              "4        0.001561        0.002987       0.80\n",
              "5        0.002601        0.005228       0.79\n",
              "6        0.003122        0.007095       0.78\n",
              "7        0.005203        0.010082       0.77\n",
              "8        0.006243        0.012323       0.76\n",
              "9        0.011446        0.016057       0.75\n",
              "10       0.016649        0.021285       0.74\n",
              "11       0.024974        0.029126       0.73\n",
              "12       0.035900        0.041075       0.72\n",
              "13       0.047867        0.055639       0.71\n",
              "14       0.063996        0.075056       0.70\n",
              "15       0.081686        0.091860       0.69\n",
              "16       0.100937        0.114638       0.68\n",
              "17       0.126951        0.142644       0.67\n",
              "18       0.156608        0.178865       0.66\n",
              "19       0.190947        0.208738       0.65\n",
              "20       0.224766        0.247199       0.64\n",
              "21       0.266909        0.293876       0.63\n",
              "22       0.312695        0.339432       0.62\n",
              "23       0.363163        0.386856       0.61\n",
              "24       0.407908        0.443241       0.60\n",
              "25       0.466181        0.495519       0.59\n",
              "26       0.518210        0.545556       0.58\n",
              "27       0.564516        0.595220       0.57\n",
              "28       0.611342        0.643017       0.56\n",
              "29       0.661290        0.691187       0.55\n",
              "30       0.703434        0.731516       0.54\n",
              "31       0.745578        0.768111       0.53\n",
              "32       0.780437        0.803585       0.52\n",
              "33       0.813736        0.830097       0.51\n",
              "34       0.838189        0.852875       0.50\n",
              "35       0.862643        0.877521       0.49\n",
              "36       0.882934        0.899178       0.48\n",
              "37       0.906868        0.920463       0.47\n",
              "38       0.924558        0.933159       0.46\n",
              "39       0.941727        0.942868       0.45\n",
              "40       0.953694        0.952203       0.44\n",
              "41       0.961498        0.961165       0.43\n",
              "42       0.968262        0.971247       0.42\n",
              "43       0.976587        0.976102       0.41\n",
              "44       0.981270        0.981703       0.40\n",
              "45       0.986472        0.986184       0.39\n",
              "46       0.989594        0.990291       0.38\n",
              "47       0.992716        0.994025       0.37\n",
              "48       0.993236        0.995892       0.36\n",
              "49       0.996878        0.997013       0.35\n",
              "50       0.997399        0.997760       0.34\n",
              "51       0.997399        0.998880       0.33\n",
              "52       0.997399        0.999253       0.32\n",
              "53       0.998959        0.999627       0.30\n",
              "54       0.998959        1.000000       0.29\n",
              "55       1.000000        1.000000       0.27"
            ]
          },
          "metadata": {
            "tags": []
          },
          "execution_count": 94
        }
      ]
    },
    {
      "cell_type": "code",
      "metadata": {
        "colab": {
          "base_uri": "https://localhost:8080/"
        },
        "id": "fCdHCbjsdp2-",
        "outputId": "2eddf6bf-5864-46c3-efa9-9b5cb84a48c6"
      },
      "source": [
        "import numpy as np\r\n",
        "\r\n",
        "# threshold 최대값의 인덱스, np.argmax()\r\n",
        "optimal_idx = np.argmax(tpr - fpr)\r\n",
        "optimal_threshold = thresholds[optimal_idx]\r\n",
        "\r\n",
        "print('idx:', optimal_idx, ', threshold:', optimal_threshold)"
      ],
      "execution_count": null,
      "outputs": [
        {
          "output_type": "stream",
          "text": [
            "idx: 24 , threshold: 0.6\n"
          ],
          "name": "stdout"
        }
      ]
    },
    {
      "cell_type": "code",
      "metadata": {
        "colab": {
          "base_uri": "https://localhost:8080/"
        },
        "id": "Mw3iri01dv0b",
        "outputId": "4177777f-92c5-45f6-b3cd-406907104cd7"
      },
      "source": [
        "y_pred_optimal = y_pred_proba >= optimal_threshold\r\n",
        "print(classification_report(y_val, y_pred_optimal))"
      ],
      "execution_count": null,
      "outputs": [
        {
          "output_type": "stream",
          "text": [
            "              precision    recall  f1-score   support\n",
            "\n",
            "         0.0       0.43      0.59      0.50      1922\n",
            "         1.0       0.60      0.44      0.51      2678\n",
            "\n",
            "    accuracy                           0.51      4600\n",
            "   macro avg       0.52      0.52      0.51      4600\n",
            "weighted avg       0.53      0.51      0.51      4600\n",
            "\n"
          ],
          "name": "stdout"
        }
      ]
    },
    {
      "cell_type": "code",
      "metadata": {
        "colab": {
          "base_uri": "https://localhost:8080/"
        },
        "id": "RD65lUldd0aw",
        "outputId": "571efeb5-5c3e-4ac1-c23e-a24af47756d5"
      },
      "source": [
        "from sklearn.metrics import roc_auc_score\r\n",
        "auc_score = roc_auc_score(y_val, y_pred_proba)\r\n",
        "auc_score"
      ],
      "execution_count": null,
      "outputs": [
        {
          "output_type": "execute_result",
          "data": {
            "text/plain": [
              "0.5211434908403074"
            ]
          },
          "metadata": {
            "tags": []
          },
          "execution_count": 97
        }
      ]
    },
    {
      "cell_type": "code",
      "metadata": {
        "colab": {
          "base_uri": "https://localhost:8080/",
          "height": 336
        },
        "id": "2Y83kvz4d4F6",
        "outputId": "2d288395-80ed-4767-8352-dd9c61ac287d"
      },
      "source": [
        "# 경기결과에 영향을 미치는 가장 큰 요인은 홈에서의 득점\r\n",
        "\r\n",
        "import matplotlib.pyplot as plt\r\n",
        "\r\n",
        "# 특성 중요도()\r\n",
        "rf = pipe_random.named_steps['randomforestclassifier']\r\n",
        "importances = pd.Series(rf.feature_importances_, X_train.columns)\r\n",
        "\r\n",
        "n = 10\r\n",
        "plt.figure(figsize=(10,n/2))\r\n",
        "plt.title(f'Top {n} features ')\r\n",
        "importances.sort_values()[-n:].plot.barh();"
      ],
      "execution_count": null,
      "outputs": [
        {
          "output_type": "display_data",
          "data": {
            "image/png": "[encoded data removed]",
            "text/plain": [
              "<Figure size 720x360 with 1 Axes>"
            ]
          },
          "metadata": {
            "tags": [],
            "needs_background": "light"
          }
        }
      ]
    }
  ]
}